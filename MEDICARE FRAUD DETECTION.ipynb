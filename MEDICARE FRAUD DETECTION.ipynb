{
 "cells": [
  {
   "cell_type": "markdown",
   "metadata": {},
   "source": [
    "# 1. Introduction\n",
    "\n",
    "**BUSINESS CONTEXT:**\n",
    "- The Cloudera Data Science Challenge is a rigorous competition in which candidates must provide a solution to a real-world big data problem that surpasses a benchmark specified by some of the world's elite data scientists. In the U.S., Medicare reimburses private providers for medical procedures performed for covered individuals. As such, it needs to verify that the type of procedures performed and the cost of those procedures are consistent and reasonable. Finally, it needs to detect possible errors or fraud in claims for reimbursement from providers. \n",
    "- You have been hired to analyze a large amount of data from Medicare and try to detect abnormal data --providers, areas, or patients with unusual procedures and/or claims.The objective of the Cloudera Data Science Challenge 2 was to uncover anomalous patients, procedures, providers, and regions in the United States government’s Medicare health insurance system.\n",
    "\n",
    "**PROBLEM SUMMARY:**\n",
    "- The Challenge was divided into the following three parts, each of which had specific requirements that pertained to identifying anomalous entities in different aspects of the Medicare system:  \n",
    "\n",
    "    - Part 1: Identify providers that overcharge for certain procedures or regions where procedures are too expensive.   \n",
    "        - 1A: Highest Cost Variation\n",
    "        - 1B: Highest-Cost Claims by Provider\n",
    "        - 1C: Highest-Cost Claims by Region\n",
    "        - 1D: Highest Number of Procedures and Largest Differences between Claims and Reimbursements\n",
    "        \n",
    "    - Part 2: Identify the three providers that are least similar to other providers and the three regions that are least similar to other regions. \n",
    "        - Part 2A: Providers Least Like Others \n",
    "        - Part 2B: Regions Least Like Others\n",
    "        \n",
    "    - Part 3: Identify 10,000 Medicare patients who are involved in anomalous activities. \n",
    "    \n",
    "**Submitted By:**\n",
    "- **_Shriya Jain_**"
   ]
  },
  {
   "cell_type": "markdown",
   "metadata": {},
   "source": [
    "# 2. Data Prepration"
   ]
  },
  {
   "cell_type": "markdown",
   "metadata": {},
   "source": [
    "## 2.1 Import libraries"
   ]
  },
  {
   "cell_type": "code",
   "execution_count": 1,
   "metadata": {},
   "outputs": [],
   "source": [
    "import pandas as pd\n",
    "import numpy as np\n",
    "import matplotlib.pyplot as plt\n",
    "import seaborn as sns\n",
    "\n",
    "from IPython.core.interactiveshell import InteractiveShell\n",
    "InteractiveShell.ast_node_interactivity = \"all\"\n",
    "from sklearn.cluster import MiniBatchKMeans\n",
    "from sklearn.decomposition import TruncatedSVD\n",
    "from sklearn.preprocessing import StandardScaler\n",
    "from sklearn.cluster import KMeans"
   ]
  },
  {
   "cell_type": "markdown",
   "metadata": {},
   "source": [
    "## 2.2 Load Data"
   ]
  },
  {
   "cell_type": "markdown",
   "metadata": {},
   "source": [
    "### 2.2.1 Data For Part-1 and Part-2"
   ]
  },
  {
   "cell_type": "code",
   "execution_count": 2,
   "metadata": {
    "scrolled": true
   },
   "outputs": [
    {
     "data": {
      "text/html": [
       "<div>\n",
       "<style scoped>\n",
       "    .dataframe tbody tr th:only-of-type {\n",
       "        vertical-align: middle;\n",
       "    }\n",
       "\n",
       "    .dataframe tbody tr th {\n",
       "        vertical-align: top;\n",
       "    }\n",
       "\n",
       "    .dataframe thead th {\n",
       "        text-align: right;\n",
       "    }\n",
       "</style>\n",
       "<table border=\"1\" class=\"dataframe\">\n",
       "  <thead>\n",
       "    <tr style=\"text-align: right;\">\n",
       "      <th></th>\n",
       "      <th>0</th>\n",
       "      <th>1</th>\n",
       "      <th>2</th>\n",
       "      <th>0</th>\n",
       "    </tr>\n",
       "  </thead>\n",
       "  <tbody>\n",
       "    <tr>\n",
       "      <th>DRG Definition</th>\n",
       "      <td>object</td>\n",
       "      <td>0</td>\n",
       "      <td>100</td>\n",
       "      <td>039 - EXTRACRANIAL PROCEDURES W/O CC/MCC</td>\n",
       "    </tr>\n",
       "    <tr>\n",
       "      <th>Total Discharges</th>\n",
       "      <td>int64</td>\n",
       "      <td>0</td>\n",
       "      <td>100</td>\n",
       "      <td>37861</td>\n",
       "    </tr>\n",
       "    <tr>\n",
       "      <th>Average Covered Charges</th>\n",
       "      <td>float64</td>\n",
       "      <td>0</td>\n",
       "      <td>100</td>\n",
       "      <td>29228.6</td>\n",
       "    </tr>\n",
       "    <tr>\n",
       "      <th>Average Total Payments</th>\n",
       "      <td>float64</td>\n",
       "      <td>0</td>\n",
       "      <td>100</td>\n",
       "      <td>6902.38</td>\n",
       "    </tr>\n",
       "    <tr>\n",
       "      <th>Average Medicare Payments</th>\n",
       "      <td>float64</td>\n",
       "      <td>0</td>\n",
       "      <td>100</td>\n",
       "      <td>5514.44</td>\n",
       "    </tr>\n",
       "  </tbody>\n",
       "</table>\n",
       "</div>"
      ],
      "text/plain": [
       "                                 0  1    2  \\\n",
       "DRG Definition              object  0  100   \n",
       "Total Discharges             int64  0  100   \n",
       "Average Covered Charges    float64  0  100   \n",
       "Average Total Payments     float64  0  100   \n",
       "Average Medicare Payments  float64  0  100   \n",
       "\n",
       "                                                                  0  \n",
       "DRG Definition             039 - EXTRACRANIAL PROCEDURES W/O CC/MCC  \n",
       "Total Discharges                                              37861  \n",
       "Average Covered Charges                                     29228.6  \n",
       "Average Total Payments                                      6902.38  \n",
       "Average Medicare Payments                                   5514.44  "
      ]
     },
     "execution_count": 2,
     "metadata": {},
     "output_type": "execute_result"
    }
   ],
   "source": [
    "drg_inpatient = pd.read_csv('Medicare_Charge_Inpatient_DRG100_DRG_Summary_by_DRG_FY2011.csv')\n",
    "pd.concat([drg_inpatient.dtypes,drg_inpatient.isna().sum(),drg_inpatient.nunique(),drg_inpatient.iloc[0]],axis=1)"
   ]
  },
  {
   "cell_type": "code",
   "execution_count": 3,
   "metadata": {},
   "outputs": [
    {
     "data": {
      "text/html": [
       "<div>\n",
       "<style scoped>\n",
       "    .dataframe tbody tr th:only-of-type {\n",
       "        vertical-align: middle;\n",
       "    }\n",
       "\n",
       "    .dataframe tbody tr th {\n",
       "        vertical-align: top;\n",
       "    }\n",
       "\n",
       "    .dataframe thead th {\n",
       "        text-align: right;\n",
       "    }\n",
       "</style>\n",
       "<table border=\"1\" class=\"dataframe\">\n",
       "  <thead>\n",
       "    <tr style=\"text-align: right;\">\n",
       "      <th></th>\n",
       "      <th>0</th>\n",
       "      <th>1</th>\n",
       "      <th>2</th>\n",
       "      <th>0</th>\n",
       "    </tr>\n",
       "  </thead>\n",
       "  <tbody>\n",
       "    <tr>\n",
       "      <th>APC</th>\n",
       "      <td>object</td>\n",
       "      <td>0</td>\n",
       "      <td>30</td>\n",
       "      <td>0012 - Level I Debridement &amp; Destruction</td>\n",
       "    </tr>\n",
       "    <tr>\n",
       "      <th>Outpatient Services</th>\n",
       "      <td>int64</td>\n",
       "      <td>0</td>\n",
       "      <td>30</td>\n",
       "      <td>275987</td>\n",
       "    </tr>\n",
       "    <tr>\n",
       "      <th>Average Estimated Submitted Charges</th>\n",
       "      <td>float64</td>\n",
       "      <td>0</td>\n",
       "      <td>30</td>\n",
       "      <td>74.203</td>\n",
       "    </tr>\n",
       "    <tr>\n",
       "      <th>Average Total Payments</th>\n",
       "      <td>float64</td>\n",
       "      <td>0</td>\n",
       "      <td>30</td>\n",
       "      <td>16.1471</td>\n",
       "    </tr>\n",
       "  </tbody>\n",
       "</table>\n",
       "</div>"
      ],
      "text/plain": [
       "                                           0  1   2  \\\n",
       "APC                                   object  0  30   \n",
       "Outpatient Services                    int64  0  30   \n",
       "Average Estimated Submitted Charges  float64  0  30   \n",
       "Average Total Payments               float64  0  30   \n",
       "\n",
       "                                                                            0  \n",
       "APC                                  0012 - Level I Debridement & Destruction  \n",
       "Outpatient Services                                                    275987  \n",
       "Average Estimated Submitted Charges                                    74.203  \n",
       "Average Total Payments                                                16.1471  "
      ]
     },
     "execution_count": 3,
     "metadata": {},
     "output_type": "execute_result"
    }
   ],
   "source": [
    "apc_outpatient = pd.read_csv('Medicare_Charge_Outpatient_APC30_Summary_by_APC_CY2011.csv')\n",
    "pd.concat([apc_outpatient.dtypes,apc_outpatient.isna().sum(),apc_outpatient.nunique(),apc_outpatient.iloc[0]],axis=1)"
   ]
  },
  {
   "cell_type": "code",
   "execution_count": 4,
   "metadata": {},
   "outputs": [
    {
     "data": {
      "text/html": [
       "<div>\n",
       "<style scoped>\n",
       "    .dataframe tbody tr th:only-of-type {\n",
       "        vertical-align: middle;\n",
       "    }\n",
       "\n",
       "    .dataframe tbody tr th {\n",
       "        vertical-align: top;\n",
       "    }\n",
       "\n",
       "    .dataframe thead th {\n",
       "        text-align: right;\n",
       "    }\n",
       "</style>\n",
       "<table border=\"1\" class=\"dataframe\">\n",
       "  <thead>\n",
       "    <tr style=\"text-align: right;\">\n",
       "      <th></th>\n",
       "      <th>0</th>\n",
       "      <th>1</th>\n",
       "      <th>2</th>\n",
       "      <th>0</th>\n",
       "    </tr>\n",
       "  </thead>\n",
       "  <tbody>\n",
       "    <tr>\n",
       "      <th>Provider State</th>\n",
       "      <td>object</td>\n",
       "      <td>0</td>\n",
       "      <td>51</td>\n",
       "      <td>AL</td>\n",
       "    </tr>\n",
       "    <tr>\n",
       "      <th>DRG Definition</th>\n",
       "      <td>object</td>\n",
       "      <td>0</td>\n",
       "      <td>100</td>\n",
       "      <td>039 - EXTRACRANIAL PROCEDURES W/O CC/MCC</td>\n",
       "    </tr>\n",
       "    <tr>\n",
       "      <th>Hospital Referral Region (HRR) Description</th>\n",
       "      <td>object</td>\n",
       "      <td>0</td>\n",
       "      <td>306</td>\n",
       "      <td>AL - Dothan</td>\n",
       "    </tr>\n",
       "    <tr>\n",
       "      <th>Total Discharges</th>\n",
       "      <td>int64</td>\n",
       "      <td>0</td>\n",
       "      <td>642</td>\n",
       "      <td>91</td>\n",
       "    </tr>\n",
       "    <tr>\n",
       "      <th>Provider City</th>\n",
       "      <td>object</td>\n",
       "      <td>0</td>\n",
       "      <td>1977</td>\n",
       "      <td>DOTHAN</td>\n",
       "    </tr>\n",
       "    <tr>\n",
       "      <th>Provider Zip Code</th>\n",
       "      <td>int64</td>\n",
       "      <td>0</td>\n",
       "      <td>3053</td>\n",
       "      <td>36301</td>\n",
       "    </tr>\n",
       "    <tr>\n",
       "      <th>Provider Name</th>\n",
       "      <td>object</td>\n",
       "      <td>0</td>\n",
       "      <td>3201</td>\n",
       "      <td>SOUTHEAST ALABAMA MEDICAL CENTER</td>\n",
       "    </tr>\n",
       "    <tr>\n",
       "      <th>Provider Street Address</th>\n",
       "      <td>object</td>\n",
       "      <td>0</td>\n",
       "      <td>3326</td>\n",
       "      <td>1108 ROSS CLARK CIRCLE</td>\n",
       "    </tr>\n",
       "    <tr>\n",
       "      <th>Provider Id</th>\n",
       "      <td>int64</td>\n",
       "      <td>0</td>\n",
       "      <td>3337</td>\n",
       "      <td>10001</td>\n",
       "    </tr>\n",
       "    <tr>\n",
       "      <th>Average Total Payments</th>\n",
       "      <td>float64</td>\n",
       "      <td>0</td>\n",
       "      <td>154891</td>\n",
       "      <td>5777.24</td>\n",
       "    </tr>\n",
       "    <tr>\n",
       "      <th>Average Medicare Payments</th>\n",
       "      <td>float64</td>\n",
       "      <td>0</td>\n",
       "      <td>157817</td>\n",
       "      <td>4763.74</td>\n",
       "    </tr>\n",
       "    <tr>\n",
       "      <th>Average Covered Charges</th>\n",
       "      <td>float64</td>\n",
       "      <td>0</td>\n",
       "      <td>161985</td>\n",
       "      <td>32963.1</td>\n",
       "    </tr>\n",
       "  </tbody>\n",
       "</table>\n",
       "</div>"
      ],
      "text/plain": [
       "                                                  0  1       2  \\\n",
       "Provider State                               object  0      51   \n",
       "DRG Definition                               object  0     100   \n",
       "Hospital Referral Region (HRR) Description   object  0     306   \n",
       "Total Discharges                              int64  0     642   \n",
       "Provider City                                object  0    1977   \n",
       "Provider Zip Code                             int64  0    3053   \n",
       "Provider Name                                object  0    3201   \n",
       "Provider Street Address                      object  0    3326   \n",
       "Provider Id                                   int64  0    3337   \n",
       "Average Total Payments                      float64  0  154891   \n",
       "Average Medicare Payments                   float64  0  157817   \n",
       "Average Covered Charges                     float64  0  161985   \n",
       "\n",
       "                                                                                   0  \n",
       "Provider State                                                                    AL  \n",
       "DRG Definition                              039 - EXTRACRANIAL PROCEDURES W/O CC/MCC  \n",
       "Hospital Referral Region (HRR) Description                               AL - Dothan  \n",
       "Total Discharges                                                                  91  \n",
       "Provider City                                                                 DOTHAN  \n",
       "Provider Zip Code                                                              36301  \n",
       "Provider Name                                       SOUTHEAST ALABAMA MEDICAL CENTER  \n",
       "Provider Street Address                                       1108 ROSS CLARK CIRCLE  \n",
       "Provider Id                                                                    10001  \n",
       "Average Total Payments                                                       5777.24  \n",
       "Average Medicare Payments                                                    4763.74  \n",
       "Average Covered Charges                                                      32963.1  "
      ]
     },
     "execution_count": 4,
     "metadata": {},
     "output_type": "execute_result"
    }
   ],
   "source": [
    "provider_inpatient = pd.read_csv('Medicare_Provider_Charge_Inpatient_DRG100_FY2011.csv')\n",
    "pd.concat([provider_inpatient.dtypes,provider_inpatient.isna().sum(),provider_inpatient.nunique(),provider_inpatient.iloc[0]],axis=1).sort_values(by=[2])"
   ]
  },
  {
   "cell_type": "code",
   "execution_count": 5,
   "metadata": {},
   "outputs": [
    {
     "data": {
      "text/html": [
       "<div>\n",
       "<style scoped>\n",
       "    .dataframe tbody tr th:only-of-type {\n",
       "        vertical-align: middle;\n",
       "    }\n",
       "\n",
       "    .dataframe tbody tr th {\n",
       "        vertical-align: top;\n",
       "    }\n",
       "\n",
       "    .dataframe thead th {\n",
       "        text-align: right;\n",
       "    }\n",
       "</style>\n",
       "<table border=\"1\" class=\"dataframe\">\n",
       "  <thead>\n",
       "    <tr style=\"text-align: right;\">\n",
       "      <th></th>\n",
       "      <th>0</th>\n",
       "      <th>1</th>\n",
       "      <th>2</th>\n",
       "      <th>0</th>\n",
       "    </tr>\n",
       "  </thead>\n",
       "  <tbody>\n",
       "    <tr>\n",
       "      <th>APC</th>\n",
       "      <td>object</td>\n",
       "      <td>0</td>\n",
       "      <td>30</td>\n",
       "      <td>0012 - Level I Debridement &amp; Destruction</td>\n",
       "    </tr>\n",
       "    <tr>\n",
       "      <th>Provider State</th>\n",
       "      <td>object</td>\n",
       "      <td>0</td>\n",
       "      <td>50</td>\n",
       "      <td>AL</td>\n",
       "    </tr>\n",
       "    <tr>\n",
       "      <th>Hospital Referral Region (HRR) Description</th>\n",
       "      <td>object</td>\n",
       "      <td>0</td>\n",
       "      <td>304</td>\n",
       "      <td>AL - Birmingham</td>\n",
       "    </tr>\n",
       "    <tr>\n",
       "      <th>Provider City</th>\n",
       "      <td>object</td>\n",
       "      <td>0</td>\n",
       "      <td>1899</td>\n",
       "      <td>OPELIKA</td>\n",
       "    </tr>\n",
       "    <tr>\n",
       "      <th>Provider Zip Code</th>\n",
       "      <td>int64</td>\n",
       "      <td>0</td>\n",
       "      <td>2897</td>\n",
       "      <td>36801</td>\n",
       "    </tr>\n",
       "    <tr>\n",
       "      <th>Provider Name</th>\n",
       "      <td>object</td>\n",
       "      <td>0</td>\n",
       "      <td>3007</td>\n",
       "      <td>EAST ALABAMA MEDICAL CENTER AND SNF</td>\n",
       "    </tr>\n",
       "    <tr>\n",
       "      <th>Provider Street Address</th>\n",
       "      <td>object</td>\n",
       "      <td>0</td>\n",
       "      <td>3124</td>\n",
       "      <td>2000 PEPPERELL PARKWAY</td>\n",
       "    </tr>\n",
       "    <tr>\n",
       "      <th>Provider Id</th>\n",
       "      <td>int64</td>\n",
       "      <td>0</td>\n",
       "      <td>3135</td>\n",
       "      <td>10029</td>\n",
       "    </tr>\n",
       "    <tr>\n",
       "      <th>Outpatient Services</th>\n",
       "      <td>int64</td>\n",
       "      <td>0</td>\n",
       "      <td>3394</td>\n",
       "      <td>23</td>\n",
       "    </tr>\n",
       "    <tr>\n",
       "      <th>Average Total Payments</th>\n",
       "      <td>float64</td>\n",
       "      <td>0</td>\n",
       "      <td>35536</td>\n",
       "      <td>21.9104</td>\n",
       "    </tr>\n",
       "    <tr>\n",
       "      <th>Average  Estimated Submitted Charges</th>\n",
       "      <td>float64</td>\n",
       "      <td>0</td>\n",
       "      <td>42950</td>\n",
       "      <td>78.087</td>\n",
       "    </tr>\n",
       "  </tbody>\n",
       "</table>\n",
       "</div>"
      ],
      "text/plain": [
       "                                                  0  1      2  \\\n",
       "APC                                          object  0     30   \n",
       "Provider State                               object  0     50   \n",
       "Hospital Referral Region (HRR) Description   object  0    304   \n",
       "Provider City                                object  0   1899   \n",
       "Provider Zip Code                             int64  0   2897   \n",
       "Provider Name                                object  0   3007   \n",
       "Provider Street Address                      object  0   3124   \n",
       "Provider Id                                   int64  0   3135   \n",
       "Outpatient Services                           int64  0   3394   \n",
       "Average Total Payments                      float64  0  35536   \n",
       "Average  Estimated Submitted Charges        float64  0  42950   \n",
       "\n",
       "                                                                                   0  \n",
       "APC                                         0012 - Level I Debridement & Destruction  \n",
       "Provider State                                                                    AL  \n",
       "Hospital Referral Region (HRR) Description                           AL - Birmingham  \n",
       "Provider City                                                                OPELIKA  \n",
       "Provider Zip Code                                                              36801  \n",
       "Provider Name                                    EAST ALABAMA MEDICAL CENTER AND SNF  \n",
       "Provider Street Address                                       2000 PEPPERELL PARKWAY  \n",
       "Provider Id                                                                    10029  \n",
       "Outpatient Services                                                               23  \n",
       "Average Total Payments                                                       21.9104  \n",
       "Average  Estimated Submitted Charges                                          78.087  "
      ]
     },
     "execution_count": 5,
     "metadata": {},
     "output_type": "execute_result"
    }
   ],
   "source": [
    "provider_outpatient = pd.read_csv('Medicare_Provider_Charge_Outpatient_APC30_CY2011_v2.csv')\n",
    "pd.concat([provider_outpatient.dtypes,provider_outpatient.isna().sum(),provider_outpatient.nunique(),provider_outpatient.iloc[0]],axis=1).sort_values(by=[2])\n",
    "provider_outpatient.rename(columns={'Average  Estimated Submitted Charges':'Average Estimated Submitted Charges'},inplace=True)"
   ]
  },
  {
   "cell_type": "markdown",
   "metadata": {},
   "source": [
    "### 2.2.2 Data for Part-3"
   ]
  },
  {
   "cell_type": "code",
   "execution_count": 6,
   "metadata": {},
   "outputs": [
    {
     "data": {
      "text/html": [
       "<div>\n",
       "<style scoped>\n",
       "    .dataframe tbody tr th:only-of-type {\n",
       "        vertical-align: middle;\n",
       "    }\n",
       "\n",
       "    .dataframe tbody tr th {\n",
       "        vertical-align: top;\n",
       "    }\n",
       "\n",
       "    .dataframe thead th {\n",
       "        text-align: right;\n",
       "    }\n",
       "</style>\n",
       "<table border=\"1\" class=\"dataframe\">\n",
       "  <thead>\n",
       "    <tr style=\"text-align: right;\">\n",
       "      <th></th>\n",
       "      <th>0</th>\n",
       "      <th>1</th>\n",
       "      <th>2</th>\n",
       "      <th>0</th>\n",
       "    </tr>\n",
       "  </thead>\n",
       "  <tbody>\n",
       "    <tr>\n",
       "      <th>gender</th>\n",
       "      <td>object</td>\n",
       "      <td>0.0000</td>\n",
       "      <td>2</td>\n",
       "      <td>F</td>\n",
       "    </tr>\n",
       "    <tr>\n",
       "      <th>age</th>\n",
       "      <td>object</td>\n",
       "      <td>0.5060</td>\n",
       "      <td>4</td>\n",
       "      <td>65-74</td>\n",
       "    </tr>\n",
       "    <tr>\n",
       "      <th>income</th>\n",
       "      <td>object</td>\n",
       "      <td>0.5062</td>\n",
       "      <td>5</td>\n",
       "      <td>24000-31999</td>\n",
       "    </tr>\n",
       "    <tr>\n",
       "      <th>id</th>\n",
       "      <td>int64</td>\n",
       "      <td>0.0000</td>\n",
       "      <td>500000</td>\n",
       "      <td>306535165</td>\n",
       "    </tr>\n",
       "  </tbody>\n",
       "</table>\n",
       "</div>"
      ],
      "text/plain": [
       "             0       1       2            0\n",
       "gender  object  0.0000       2            F\n",
       "age     object  0.5060       4        65-74\n",
       "income  object  0.5062       5  24000-31999\n",
       "id       int64  0.0000  500000    306535165"
      ]
     },
     "execution_count": 6,
     "metadata": {},
     "output_type": "execute_result"
    },
    {
     "data": {
      "text/plain": [
       "(500000, 4)"
      ]
     },
     "execution_count": 6,
     "metadata": {},
     "output_type": "execute_result"
    }
   ],
   "source": [
    "patient_history = pd.read_csv('Patient_history_samp.csv')\n",
    "df = patient_history\n",
    "pd.concat([df.dtypes,(df.isna().sum()/df.shape[0])*100,df.nunique(),df.iloc[0]],axis=1).sort_values(by=[2])\n",
    "patient_history.shape"
   ]
  },
  {
   "cell_type": "code",
   "execution_count": 7,
   "metadata": {},
   "outputs": [],
   "source": [
    "patient_history.dropna(inplace=True)"
   ]
  },
  {
   "cell_type": "code",
   "execution_count": 8,
   "metadata": {},
   "outputs": [
    {
     "data": {
      "text/plain": [
       "id        0\n",
       "age       0\n",
       "gender    0\n",
       "income    0\n",
       "dtype: int64"
      ]
     },
     "execution_count": 8,
     "metadata": {},
     "output_type": "execute_result"
    }
   ],
   "source": [
    "patient_history.isna().sum()"
   ]
  },
  {
   "cell_type": "code",
   "execution_count": 9,
   "metadata": {},
   "outputs": [
    {
     "data": {
      "text/html": [
       "<div>\n",
       "<style scoped>\n",
       "    .dataframe tbody tr th:only-of-type {\n",
       "        vertical-align: middle;\n",
       "    }\n",
       "\n",
       "    .dataframe tbody tr th {\n",
       "        vertical-align: top;\n",
       "    }\n",
       "\n",
       "    .dataframe thead th {\n",
       "        text-align: right;\n",
       "    }\n",
       "</style>\n",
       "<table border=\"1\" class=\"dataframe\">\n",
       "  <thead>\n",
       "    <tr style=\"text-align: right;\">\n",
       "      <th></th>\n",
       "      <th>0</th>\n",
       "      <th>1</th>\n",
       "      <th>2</th>\n",
       "      <th>0</th>\n",
       "    </tr>\n",
       "  </thead>\n",
       "  <tbody>\n",
       "    <tr>\n",
       "      <th>gender</th>\n",
       "      <td>object</td>\n",
       "      <td>0.00</td>\n",
       "      <td>2</td>\n",
       "      <td>F</td>\n",
       "    </tr>\n",
       "    <tr>\n",
       "      <th>age</th>\n",
       "      <td>object</td>\n",
       "      <td>0.52</td>\n",
       "      <td>4</td>\n",
       "      <td>65-74</td>\n",
       "    </tr>\n",
       "    <tr>\n",
       "      <th>income</th>\n",
       "      <td>object</td>\n",
       "      <td>0.52</td>\n",
       "      <td>5</td>\n",
       "      <td>24000-31999</td>\n",
       "    </tr>\n",
       "    <tr>\n",
       "      <th>id</th>\n",
       "      <td>int64</td>\n",
       "      <td>0.00</td>\n",
       "      <td>5000</td>\n",
       "      <td>381693273</td>\n",
       "    </tr>\n",
       "  </tbody>\n",
       "</table>\n",
       "</div>"
      ],
      "text/plain": [
       "             0     1     2            0\n",
       "gender  object  0.00     2            F\n",
       "age     object  0.52     4        65-74\n",
       "income  object  0.52     5  24000-31999\n",
       "id       int64  0.00  5000    381693273"
      ]
     },
     "execution_count": 9,
     "metadata": {},
     "output_type": "execute_result"
    },
    {
     "data": {
      "text/plain": [
       "(5000, 4)"
      ]
     },
     "execution_count": 9,
     "metadata": {},
     "output_type": "execute_result"
    }
   ],
   "source": [
    "review = pd.read_csv('Review_patient_history_samp.csv')\n",
    "df = review\n",
    "pd.concat([df.dtypes,(df.isna().sum()/df.shape[0])*100,df.nunique(),df.iloc[0]],axis=1).sort_values(by=[2])\n",
    "df.shape"
   ]
  },
  {
   "cell_type": "code",
   "execution_count": 10,
   "metadata": {},
   "outputs": [],
   "source": [
    "review.dropna(inplace=True)"
   ]
  },
  {
   "cell_type": "code",
   "execution_count": 11,
   "metadata": {},
   "outputs": [
    {
     "data": {
      "text/plain": [
       "id        0\n",
       "age       0\n",
       "gender    0\n",
       "income    0\n",
       "dtype: int64"
      ]
     },
     "execution_count": 11,
     "metadata": {},
     "output_type": "execute_result"
    }
   ],
   "source": [
    "review.isna().sum()"
   ]
  },
  {
   "cell_type": "code",
   "execution_count": 12,
   "metadata": {
    "scrolled": false
   },
   "outputs": [
    {
     "data": {
      "text/html": [
       "<div>\n",
       "<style scoped>\n",
       "    .dataframe tbody tr th:only-of-type {\n",
       "        vertical-align: middle;\n",
       "    }\n",
       "\n",
       "    .dataframe tbody tr th {\n",
       "        vertical-align: top;\n",
       "    }\n",
       "\n",
       "    .dataframe thead th {\n",
       "        text-align: right;\n",
       "    }\n",
       "</style>\n",
       "<table border=\"1\" class=\"dataframe\">\n",
       "  <thead>\n",
       "    <tr style=\"text-align: right;\">\n",
       "      <th></th>\n",
       "      <th>0</th>\n",
       "      <th>1</th>\n",
       "      <th>2</th>\n",
       "      <th>0</th>\n",
       "    </tr>\n",
       "  </thead>\n",
       "  <tbody>\n",
       "    <tr>\n",
       "      <th>count</th>\n",
       "      <td>int64</td>\n",
       "      <td>0.0</td>\n",
       "      <td>1</td>\n",
       "      <td>1</td>\n",
       "    </tr>\n",
       "    <tr>\n",
       "      <th>global_proc_id</th>\n",
       "      <td>int64</td>\n",
       "      <td>0.0</td>\n",
       "      <td>130</td>\n",
       "      <td>1</td>\n",
       "    </tr>\n",
       "    <tr>\n",
       "      <th>id</th>\n",
       "      <td>int64</td>\n",
       "      <td>0.0</td>\n",
       "      <td>505000</td>\n",
       "      <td>159125</td>\n",
       "    </tr>\n",
       "  </tbody>\n",
       "</table>\n",
       "</div>"
      ],
      "text/plain": [
       "                    0    1       2       0\n",
       "count           int64  0.0       1       1\n",
       "global_proc_id  int64  0.0     130       1\n",
       "id              int64  0.0  505000  159125"
      ]
     },
     "execution_count": 12,
     "metadata": {},
     "output_type": "execute_result"
    },
    {
     "data": {
      "text/plain": [
       "(1514809, 3)"
      ]
     },
     "execution_count": 12,
     "metadata": {},
     "output_type": "execute_result"
    }
   ],
   "source": [
    "transaction_coo = pd.read_csv('Transaction_coo.csv')\n",
    "df = transaction_coo\n",
    "pd.concat([df.dtypes,(df.isna().sum()/df.shape[0])*100,df.nunique(),df.iloc[0]],axis=1).sort_values(by=[2])\n",
    "transaction_coo.shape"
   ]
  },
  {
   "cell_type": "code",
   "execution_count": 13,
   "metadata": {
    "scrolled": true
   },
   "outputs": [
    {
     "data": {
      "text/html": [
       "<div>\n",
       "<style scoped>\n",
       "    .dataframe tbody tr th:only-of-type {\n",
       "        vertical-align: middle;\n",
       "    }\n",
       "\n",
       "    .dataframe tbody tr th {\n",
       "        vertical-align: top;\n",
       "    }\n",
       "\n",
       "    .dataframe thead th {\n",
       "        text-align: right;\n",
       "    }\n",
       "</style>\n",
       "<table border=\"1\" class=\"dataframe\">\n",
       "  <thead>\n",
       "    <tr style=\"text-align: right;\">\n",
       "      <th></th>\n",
       "      <th>0</th>\n",
       "      <th>1</th>\n",
       "      <th>2</th>\n",
       "      <th>0</th>\n",
       "    </tr>\n",
       "  </thead>\n",
       "  <tbody>\n",
       "    <tr>\n",
       "      <th>count</th>\n",
       "      <td>int64</td>\n",
       "      <td>0.0</td>\n",
       "      <td>1</td>\n",
       "      <td>1</td>\n",
       "    </tr>\n",
       "    <tr>\n",
       "      <th>global_proc_id</th>\n",
       "      <td>int64</td>\n",
       "      <td>0.0</td>\n",
       "      <td>129</td>\n",
       "      <td>109</td>\n",
       "    </tr>\n",
       "    <tr>\n",
       "      <th>id</th>\n",
       "      <td>int64</td>\n",
       "      <td>0.0</td>\n",
       "      <td>5000</td>\n",
       "      <td>65822</td>\n",
       "    </tr>\n",
       "  </tbody>\n",
       "</table>\n",
       "</div>"
      ],
      "text/plain": [
       "                    0    1     2      0\n",
       "count           int64  0.0     1      1\n",
       "global_proc_id  int64  0.0   129    109\n",
       "id              int64  0.0  5000  65822"
      ]
     },
     "execution_count": 13,
     "metadata": {},
     "output_type": "execute_result"
    },
    {
     "data": {
      "text/plain": [
       "(15041, 3)"
      ]
     },
     "execution_count": 13,
     "metadata": {},
     "output_type": "execute_result"
    }
   ],
   "source": [
    "fraudulent_transaction = pd.read_csv('Rreview_transaction_coo.csv')\n",
    "df = fraudulent_transaction\n",
    "pd.concat([df.dtypes,(df.isna().sum()/df.shape[0])*100,df.nunique(),df.iloc[0]],axis=1).sort_values(by=[2])\n",
    "df.shape"
   ]
  },
  {
   "cell_type": "markdown",
   "metadata": {},
   "source": [
    "# 3 Identify providers that overcharge for certain procedures or regions where procedures are too expensive"
   ]
  },
  {
   "cell_type": "code",
   "execution_count": 14,
   "metadata": {
    "scrolled": false
   },
   "outputs": [
    {
     "data": {
      "text/html": [
       "<div>\n",
       "<style scoped>\n",
       "    .dataframe tbody tr th:only-of-type {\n",
       "        vertical-align: middle;\n",
       "    }\n",
       "\n",
       "    .dataframe tbody tr th {\n",
       "        vertical-align: top;\n",
       "    }\n",
       "\n",
       "    .dataframe thead th {\n",
       "        text-align: right;\n",
       "    }\n",
       "</style>\n",
       "<table border=\"1\" class=\"dataframe\">\n",
       "  <thead>\n",
       "    <tr style=\"text-align: right;\">\n",
       "      <th></th>\n",
       "      <th>DRG Definition</th>\n",
       "      <th>Provider Id</th>\n",
       "      <th>Provider Name</th>\n",
       "      <th>Provider Street Address</th>\n",
       "      <th>Provider City</th>\n",
       "      <th>Provider State</th>\n",
       "      <th>Provider Zip Code</th>\n",
       "      <th>Hospital Referral Region (HRR) Description</th>\n",
       "      <th>Total Discharges Provider</th>\n",
       "      <th>Average Covered Charges Provider</th>\n",
       "      <th>Average Total Payments Provider</th>\n",
       "      <th>Average Medicare Payments Provider</th>\n",
       "      <th>Total Discharges</th>\n",
       "      <th>Average Covered Charges</th>\n",
       "      <th>Average Total Payments</th>\n",
       "      <th>Average Medicare Payments</th>\n",
       "    </tr>\n",
       "  </thead>\n",
       "  <tbody>\n",
       "    <tr>\n",
       "      <th>0</th>\n",
       "      <td>039 - EXTRACRANIAL PROCEDURES W/O CC/MCC</td>\n",
       "      <td>10001</td>\n",
       "      <td>SOUTHEAST ALABAMA MEDICAL CENTER</td>\n",
       "      <td>1108 ROSS CLARK CIRCLE</td>\n",
       "      <td>DOTHAN</td>\n",
       "      <td>AL</td>\n",
       "      <td>36301</td>\n",
       "      <td>AL - Dothan</td>\n",
       "      <td>91</td>\n",
       "      <td>32963.07692</td>\n",
       "      <td>5777.241758</td>\n",
       "      <td>4763.736264</td>\n",
       "      <td>37861</td>\n",
       "      <td>29228.55368</td>\n",
       "      <td>6902.381289</td>\n",
       "      <td>5514.43591</td>\n",
       "    </tr>\n",
       "    <tr>\n",
       "      <th>1</th>\n",
       "      <td>039 - EXTRACRANIAL PROCEDURES W/O CC/MCC</td>\n",
       "      <td>10005</td>\n",
       "      <td>MARSHALL MEDICAL CENTER SOUTH</td>\n",
       "      <td>2505 U S HIGHWAY 431 NORTH</td>\n",
       "      <td>BOAZ</td>\n",
       "      <td>AL</td>\n",
       "      <td>35957</td>\n",
       "      <td>AL - Birmingham</td>\n",
       "      <td>14</td>\n",
       "      <td>15131.85714</td>\n",
       "      <td>5787.571429</td>\n",
       "      <td>4976.714286</td>\n",
       "      <td>37861</td>\n",
       "      <td>29228.55368</td>\n",
       "      <td>6902.381289</td>\n",
       "      <td>5514.43591</td>\n",
       "    </tr>\n",
       "  </tbody>\n",
       "</table>\n",
       "</div>"
      ],
      "text/plain": [
       "                             DRG Definition  Provider Id  \\\n",
       "0  039 - EXTRACRANIAL PROCEDURES W/O CC/MCC        10001   \n",
       "1  039 - EXTRACRANIAL PROCEDURES W/O CC/MCC        10005   \n",
       "\n",
       "                      Provider Name     Provider Street Address Provider City  \\\n",
       "0  SOUTHEAST ALABAMA MEDICAL CENTER      1108 ROSS CLARK CIRCLE        DOTHAN   \n",
       "1     MARSHALL MEDICAL CENTER SOUTH  2505 U S HIGHWAY 431 NORTH          BOAZ   \n",
       "\n",
       "  Provider State  Provider Zip Code  \\\n",
       "0             AL              36301   \n",
       "1             AL              35957   \n",
       "\n",
       "  Hospital Referral Region (HRR) Description  Total Discharges Provider  \\\n",
       "0                                AL - Dothan                         91   \n",
       "1                            AL - Birmingham                         14   \n",
       "\n",
       "   Average Covered Charges Provider  Average Total Payments Provider  \\\n",
       "0                       32963.07692                      5777.241758   \n",
       "1                       15131.85714                      5787.571429   \n",
       "\n",
       "   Average Medicare Payments Provider  Total Discharges  \\\n",
       "0                         4763.736264             37861   \n",
       "1                         4976.714286             37861   \n",
       "\n",
       "   Average Covered Charges  Average Total Payments  Average Medicare Payments  \n",
       "0              29228.55368             6902.381289                 5514.43591  \n",
       "1              29228.55368             6902.381289                 5514.43591  "
      ]
     },
     "execution_count": 14,
     "metadata": {},
     "output_type": "execute_result"
    }
   ],
   "source": [
    "inpatient = pd.merge(provider_inpatient,drg_inpatient,how='inner',on='DRG Definition',suffixes=(' Provider', ''))\n",
    "inpatient.head(2)"
   ]
  },
  {
   "cell_type": "code",
   "execution_count": 15,
   "metadata": {},
   "outputs": [
    {
     "data": {
      "text/html": [
       "<div>\n",
       "<style scoped>\n",
       "    .dataframe tbody tr th:only-of-type {\n",
       "        vertical-align: middle;\n",
       "    }\n",
       "\n",
       "    .dataframe tbody tr th {\n",
       "        vertical-align: top;\n",
       "    }\n",
       "\n",
       "    .dataframe thead th {\n",
       "        text-align: right;\n",
       "    }\n",
       "</style>\n",
       "<table border=\"1\" class=\"dataframe\">\n",
       "  <thead>\n",
       "    <tr style=\"text-align: right;\">\n",
       "      <th></th>\n",
       "      <th>APC</th>\n",
       "      <th>Provider Id</th>\n",
       "      <th>Provider Name</th>\n",
       "      <th>Provider Street Address</th>\n",
       "      <th>Provider City</th>\n",
       "      <th>Provider State</th>\n",
       "      <th>Provider Zip Code</th>\n",
       "      <th>Hospital Referral Region (HRR) Description</th>\n",
       "      <th>Outpatient Services Provider</th>\n",
       "      <th>Average Estimated Submitted Charges Provider</th>\n",
       "      <th>Average Total Payments Provider</th>\n",
       "      <th>Outpatient Services</th>\n",
       "      <th>Average Estimated Submitted Charges</th>\n",
       "      <th>Average Total Payments</th>\n",
       "    </tr>\n",
       "  </thead>\n",
       "  <tbody>\n",
       "    <tr>\n",
       "      <th>0</th>\n",
       "      <td>0012 - Level I Debridement &amp; Destruction</td>\n",
       "      <td>10029</td>\n",
       "      <td>EAST ALABAMA MEDICAL CENTER AND SNF</td>\n",
       "      <td>2000 PEPPERELL PARKWAY</td>\n",
       "      <td>OPELIKA</td>\n",
       "      <td>AL</td>\n",
       "      <td>36801</td>\n",
       "      <td>AL - Birmingham</td>\n",
       "      <td>23</td>\n",
       "      <td>78.086957</td>\n",
       "      <td>21.910435</td>\n",
       "      <td>275987</td>\n",
       "      <td>74.202956</td>\n",
       "      <td>16.147079</td>\n",
       "    </tr>\n",
       "    <tr>\n",
       "      <th>1</th>\n",
       "      <td>0012 - Level I Debridement &amp; Destruction</td>\n",
       "      <td>20024</td>\n",
       "      <td>CENTRAL PENINSULA GENERAL HOSPITAL</td>\n",
       "      <td>250 HOSPITAL PLACE</td>\n",
       "      <td>SOLDOTNA</td>\n",
       "      <td>AK</td>\n",
       "      <td>99669</td>\n",
       "      <td>AK - Anchorage</td>\n",
       "      <td>994</td>\n",
       "      <td>149.589749</td>\n",
       "      <td>36.623853</td>\n",
       "      <td>275987</td>\n",
       "      <td>74.202956</td>\n",
       "      <td>16.147079</td>\n",
       "    </tr>\n",
       "  </tbody>\n",
       "</table>\n",
       "</div>"
      ],
      "text/plain": [
       "                                        APC  Provider Id  \\\n",
       "0  0012 - Level I Debridement & Destruction        10029   \n",
       "1  0012 - Level I Debridement & Destruction        20024   \n",
       "\n",
       "                         Provider Name Provider Street Address Provider City  \\\n",
       "0  EAST ALABAMA MEDICAL CENTER AND SNF  2000 PEPPERELL PARKWAY       OPELIKA   \n",
       "1   CENTRAL PENINSULA GENERAL HOSPITAL      250 HOSPITAL PLACE      SOLDOTNA   \n",
       "\n",
       "  Provider State  Provider Zip Code  \\\n",
       "0             AL              36801   \n",
       "1             AK              99669   \n",
       "\n",
       "  Hospital Referral Region (HRR) Description  Outpatient Services Provider  \\\n",
       "0                            AL - Birmingham                            23   \n",
       "1                             AK - Anchorage                           994   \n",
       "\n",
       "   Average Estimated Submitted Charges Provider  \\\n",
       "0                                     78.086957   \n",
       "1                                    149.589749   \n",
       "\n",
       "   Average Total Payments Provider  Outpatient Services  \\\n",
       "0                        21.910435               275987   \n",
       "1                        36.623853               275987   \n",
       "\n",
       "   Average Estimated Submitted Charges  Average Total Payments  \n",
       "0                            74.202956               16.147079  \n",
       "1                            74.202956               16.147079  "
      ]
     },
     "execution_count": 15,
     "metadata": {},
     "output_type": "execute_result"
    }
   ],
   "source": [
    "outpatient = pd.merge(provider_outpatient,apc_outpatient,how='inner',on='APC',suffixes=(' Provider', ''))\n",
    "outpatient.head(2)"
   ]
  },
  {
   "cell_type": "markdown",
   "metadata": {},
   "source": [
    "## 3.1 Highest Cost Variation"
   ]
  },
  {
   "cell_type": "markdown",
   "metadata": {},
   "source": [
    "### 3.1.1 Identify providers that overcharge for certain procedures"
   ]
  },
  {
   "cell_type": "code",
   "execution_count": 16,
   "metadata": {},
   "outputs": [
    {
     "data": {
      "text/plain": [
       "0         ST JOSEPH HOSPITAL\n",
       "1    MARION GENERAL HOSPITAL\n",
       "2          MEMORIAL HOSPITAL\n",
       "Name: Provider Name, dtype: object"
      ]
     },
     "execution_count": 16,
     "metadata": {},
     "output_type": "execute_result"
    }
   ],
   "source": [
    "temp = outpatient.groupby(by=['Provider Name','APC']).agg({'Average Estimated Submitted Charges Provider':['std','mean']})\n",
    "temp.columns = ['Average Estimated Submitted Charges Provider_std','Average Estimated Submitted Charges Provider_mean']\n",
    "temp['Average Estimated Submitted Charges Provider_cv'] = temp['Average Estimated Submitted Charges Provider_std']/temp['Average Estimated Submitted Charges Provider_mean']\n",
    "pd.DataFrame(temp['Average Estimated Submitted Charges Provider_cv'].sort_values(ascending=False)[:3]).reset_index()['Provider Name']"
   ]
  },
  {
   "cell_type": "markdown",
   "metadata": {},
   "source": [
    "### 3.1.2 Regions where procedures are too expensive."
   ]
  },
  {
   "cell_type": "code",
   "execution_count": 17,
   "metadata": {},
   "outputs": [
    {
     "data": {
      "text/plain": [
       "0    PA - Philadelphia\n",
       "1      AL - Birmingham\n",
       "2      IN - South Bend\n",
       "Name: Hospital Referral Region (HRR) Description, dtype: object"
      ]
     },
     "execution_count": 17,
     "metadata": {},
     "output_type": "execute_result"
    }
   ],
   "source": [
    "temp = outpatient.groupby(by=['Hospital Referral Region (HRR) Description','APC']).agg({'Average Estimated Submitted Charges Provider':['std','mean']})\n",
    "temp.columns = ['Average Estimated Submitted Charges Provider_std','Average Estimated Submitted Charges Provider_mean']\n",
    "temp['Average Estimated Submitted Charges Provider_cv'] = temp['Average Estimated Submitted Charges Provider_std']/temp['Average Estimated Submitted Charges Provider_mean']\n",
    "pd.DataFrame(temp['Average Estimated Submitted Charges Provider_cv'].sort_values(ascending=False)[:3]).reset_index()['Hospital Referral Region (HRR) Description']"
   ]
  },
  {
   "cell_type": "markdown",
   "metadata": {},
   "source": [
    "## 3.2 Highest-Cost Claims by Provider\n",
    "\n",
    "    -  Which three providers claimed the highest amount(on average) for the largest number of procedures?\n"
   ]
  },
  {
   "cell_type": "code",
   "execution_count": 18,
   "metadata": {},
   "outputs": [
    {
     "data": {
      "text/plain": [
       "SOUTHEAST ALABAMA MEDICAL CENTER    23\n",
       "MARSHALL MEDICAL CENTER SOUTH       18\n",
       "ELIZA COFFEE MEMORIAL HOSPITAL      17\n",
       "Name: Provider Name, dtype: int64"
      ]
     },
     "execution_count": 18,
     "metadata": {},
     "output_type": "execute_result"
    }
   ],
   "source": [
    "temp1 = outpatient.sort_values(by=['APC','Average Estimated Submitted Charges'],ascending=[False,False]).groupby(['APC']).head()\n",
    "temp2 = temp1['Provider Name'].value_counts().sort_values(ascending=False)[:3]\n",
    "temp2"
   ]
  },
  {
   "cell_type": "code",
   "execution_count": 19,
   "metadata": {},
   "outputs": [
    {
     "data": {
      "text/plain": [
       "<matplotlib.axes._subplots.AxesSubplot at 0x13565358>"
      ]
     },
     "execution_count": 19,
     "metadata": {},
     "output_type": "execute_result"
    },
    {
     "data": {
      "image/png": "[encoded data removed]",
      "text/plain": [
       "<Figure size 432x288 with 1 Axes>"
      ]
     },
     "metadata": {},
     "output_type": "display_data"
    }
   ],
   "source": [
    "temp3 = pd.DataFrame(np.where(temp1['Provider Name'].isin(temp2.index),temp1['Provider Name'],'others'))\n",
    "temp3.columns = ['Provider']\n",
    "temp3['Provider'].value_counts().plot(kind='pie', autopct='%1.1f%%')"
   ]
  },
  {
   "cell_type": "markdown",
   "metadata": {},
   "source": [
    "## 3.3 Highest-Cost Claims by Region\n",
    "    - The three regions claimed the highest average amount for the largest number of procedures?"
   ]
  },
  {
   "cell_type": "code",
   "execution_count": 20,
   "metadata": {
    "scrolled": true
   },
   "outputs": [
    {
     "data": {
      "text/plain": [
       "AL - Birmingham    67\n",
       "AL - Dothan        35\n",
       "AL - Montgomery    14\n",
       "Name: Hospital Referral Region (HRR) Description, dtype: int64"
      ]
     },
     "execution_count": 20,
     "metadata": {},
     "output_type": "execute_result"
    }
   ],
   "source": [
    "temp1 = outpatient.sort_values(by=['APC','Average Estimated Submitted Charges'],ascending=[False,False]).groupby(['APC']).head()\n",
    "temp2= temp1['Hospital Referral Region (HRR) Description'].value_counts().sort_values(ascending=False)[:3]\n",
    "temp2"
   ]
  },
  {
   "cell_type": "code",
   "execution_count": 21,
   "metadata": {},
   "outputs": [
    {
     "data": {
      "text/plain": [
       "<matplotlib.axes._subplots.AxesSubplot at 0xd951ba8>"
      ]
     },
     "execution_count": 21,
     "metadata": {},
     "output_type": "execute_result"
    },
    {
     "data": {
      "image/png": "[encoded data removed]",
      "text/plain": [
       "<Figure size 432x288 with 1 Axes>"
      ]
     },
     "metadata": {},
     "output_type": "display_data"
    }
   ],
   "source": [
    "temp3 = pd.DataFrame(np.where(temp1['Hospital Referral Region (HRR) Description'].isin(temp2.index),temp1['Hospital Referral Region (HRR) Description'],'others'))\n",
    "temp3.columns = ['Hospital Referral Region (HRR) Description']\n",
    "temp3['Hospital Referral Region (HRR) Description'].value_counts().plot(kind='pie', autopct='%1.1f%%')"
   ]
  },
  {
   "cell_type": "markdown",
   "metadata": {},
   "source": [
    "## 3.4 Highest Number of Procedures and Largest Differences between Claims and Reimbursements\n",
    "\n",
    "    - Which three providers had the largest claim difference for the largest number of procedures?"
   ]
  },
  {
   "cell_type": "code",
   "execution_count": 22,
   "metadata": {},
   "outputs": [
    {
     "data": {
      "text/plain": [
       "CAPITAL HEALTH MEDICAL CENTER - HOPEWELL    4\n",
       "CAPITAL HEALTH SYSTEM-FULD CAMPUS           4\n",
       "JENNERSVILLE REGIONAL HOSPITAL              4\n",
       "Name: Provider Name, dtype: int64"
      ]
     },
     "execution_count": 22,
     "metadata": {},
     "output_type": "execute_result"
    }
   ],
   "source": [
    "temp = pd.DataFrame(outpatient[['APC','Provider Name','Average Estimated Submitted Charges Provider','Average Total Payments Provider']])\n",
    "temp['Claim_diff'] = temp['Average Estimated Submitted Charges Provider']-temp['Average Total Payments Provider']\n",
    "temp1 = temp.sort_values(by=['APC','Claim_diff'],ascending=[False,False]).groupby(['APC']).head()\n",
    "temp2 = temp1['Provider Name'].value_counts().sort_values(ascending=False)[:3]\n",
    "temp2"
   ]
  },
  {
   "cell_type": "code",
   "execution_count": 23,
   "metadata": {},
   "outputs": [
    {
     "data": {
      "text/plain": [
       "<matplotlib.axes._subplots.AxesSubplot at 0xd2a9d30>"
      ]
     },
     "execution_count": 23,
     "metadata": {},
     "output_type": "execute_result"
    },
    {
     "data": {
      "image/png": "[encoded data removed]",
      "text/plain": [
       "<Figure size 432x288 with 1 Axes>"
      ]
     },
     "metadata": {},
     "output_type": "display_data"
    }
   ],
   "source": [
    "temp3 = pd.DataFrame(np.where(temp1['Provider Name'].isin(temp2.index),temp1['Provider Name'],'others'))\n",
    "temp3.columns = ['Provider']\n",
    "temp3['Provider'].value_counts().plot(kind='pie', autopct='%1.1f%%')"
   ]
  },
  {
   "cell_type": "markdown",
   "metadata": {},
   "source": [
    "# 4 Least like others"
   ]
  },
  {
   "cell_type": "code",
   "execution_count": 24,
   "metadata": {},
   "outputs": [],
   "source": [
    "# Unique category labels:\n",
    "color_labels = range(26)\n",
    "\n",
    "# List of RGB triplets\n",
    "rgb_values = sns.color_palette(\"Set2\", 26)\n",
    "\n",
    "# Map label to RGB\n",
    "color_map = dict(zip(color_labels, rgb_values))"
   ]
  },
  {
   "cell_type": "markdown",
   "metadata": {},
   "source": [
    "## 4.1 Providers least like others"
   ]
  },
  {
   "cell_type": "markdown",
   "metadata": {},
   "source": [
    "### 4.1.1 For inpatient services"
   ]
  },
  {
   "cell_type": "code",
   "execution_count": 25,
   "metadata": {},
   "outputs": [],
   "source": [
    "provider_inpatient2 = pd.DataFrame(data=provider_inpatient[['Provider Name','Total Discharges','Average Covered Charges','Average Total Payments','Average Medicare Payments']])"
   ]
  },
  {
   "cell_type": "code",
   "execution_count": 26,
   "metadata": {},
   "outputs": [],
   "source": [
    "provider_inpatient2 = provider_inpatient2.groupby('Provider Name').mean()"
   ]
  },
  {
   "cell_type": "code",
   "execution_count": 27,
   "metadata": {},
   "outputs": [],
   "source": [
    "data = provider_inpatient2.astype(np.float)\n",
    "scaler = StandardScaler()\n",
    "data = scaler.fit_transform(data)"
   ]
  },
  {
   "cell_type": "code",
   "execution_count": 28,
   "metadata": {},
   "outputs": [
    {
     "name": "stdout",
     "output_type": "stream",
     "text": [
      "**********\n",
      "1\n",
      "0    3201\n",
      "dtype: int64\n",
      "**********\n",
      "2\n",
      "0     904\n",
      "1    2297\n",
      "dtype: int64\n",
      "**********\n",
      "3\n",
      "2       1\n",
      "0     960\n",
      "1    2240\n",
      "dtype: int64\n",
      "**********\n",
      "4\n",
      "2       1\n",
      "3     377\n",
      "0    1348\n",
      "dtype: int64\n",
      "**********\n",
      "5\n",
      "1      1\n",
      "4    235\n",
      "0    430\n",
      "dtype: int64\n",
      "**********\n",
      "6\n",
      "5      1\n",
      "4     35\n",
      "1    231\n",
      "dtype: int64\n",
      "**********\n",
      "7\n",
      "2     1\n",
      "3    36\n",
      "4    78\n",
      "dtype: int64\n",
      "**********\n",
      "8\n",
      "2     1\n",
      "7     2\n",
      "5    35\n",
      "dtype: int64\n",
      "**********\n",
      "9\n",
      "2     1\n",
      "7     2\n",
      "5    35\n",
      "dtype: int64\n",
      "**********\n",
      "10\n",
      "2     1\n",
      "7     2\n",
      "5    34\n",
      "dtype: int64\n",
      "**********\n",
      "11\n",
      "6      1\n",
      "9      2\n",
      "10    21\n",
      "dtype: int64\n",
      "**********\n",
      "12\n",
      "4     1\n",
      "8     2\n",
      "6    21\n",
      "dtype: int64\n",
      "**********\n",
      "13\n",
      "4     1\n",
      "12    2\n",
      "5     3\n",
      "dtype: int64\n",
      "**********\n",
      "14\n",
      "3    1\n",
      "8    2\n",
      "6    3\n",
      "dtype: int64\n"
     ]
    }
   ],
   "source": [
    "for K in range(1,15):\n",
    "    kmeans_model = KMeans(n_clusters=K,random_state=50).fit(data)\n",
    "    centers = np.array(kmeans_model.cluster_centers_)\n",
    "    labels = pd.Series(kmeans_model.labels_)\n",
    "    print('*'*10)\n",
    "    print(K)\n",
    "    print(labels.value_counts().sort_values()[:3])"
   ]
  },
  {
   "cell_type": "code",
   "execution_count": 29,
   "metadata": {},
   "outputs": [],
   "source": [
    "kmeans_model = KMeans(n_clusters=8,random_state=50).fit(data)\n",
    "labels = pd.Series(kmeans_model.labels_)\n",
    "labels.index = provider_inpatient2.index\n",
    "provider_inpatient2['labels'] = labels"
   ]
  },
  {
   "cell_type": "code",
   "execution_count": 30,
   "metadata": {},
   "outputs": [
    {
     "data": {
      "text/plain": [
       "2       1\n",
       "7       2\n",
       "5      35\n",
       "3     126\n",
       "0     367\n",
       "4     370\n",
       "6    1127\n",
       "1    1173\n",
       "Name: labels, dtype: int64"
      ]
     },
     "execution_count": 30,
     "metadata": {},
     "output_type": "execute_result"
    }
   ],
   "source": [
    "provider_inpatient2['labels'].value_counts().sort_values()"
   ]
  },
  {
   "cell_type": "code",
   "execution_count": 31,
   "metadata": {},
   "outputs": [
    {
     "data": {
      "text/plain": [
       "Index([u'ADCARE HOSPITAL OF WORCESTER INC', u'UVA HEALTH SCIENCES CENTER',\n",
       "       u'VAIL VALLEY MEDICAL CENTER'],\n",
       "      dtype='object', name=u'Provider Name')"
      ]
     },
     "execution_count": 31,
     "metadata": {},
     "output_type": "execute_result"
    }
   ],
   "source": [
    "to_plot2 = provider_inpatient2[provider_inpatient2['labels'].isin(provider_inpatient2['labels'].value_counts().sort_values()[:2].index)]\n",
    "to_plot2.index"
   ]
  },
  {
   "cell_type": "markdown",
   "metadata": {},
   "source": [
    "Providers least like others for inpatient services are :\n",
    "    - ADCARE HOSPITAL OF WORCESTER INC\n",
    "    - UVA HEALTH SCIENCES CENTER\n",
    "    - VAIL VALLEY MEDICAL CENTER"
   ]
  },
  {
   "cell_type": "code",
   "execution_count": 32,
   "metadata": {},
   "outputs": [],
   "source": [
    "to_plot = provider_inpatient2[provider_inpatient2['labels'].isin(provider_inpatient2['labels'].value_counts().sort_values().index)]"
   ]
  },
  {
   "cell_type": "code",
   "execution_count": 33,
   "metadata": {},
   "outputs": [
    {
     "data": {
      "image/png": "[encoded data removed]",
      "text/plain": [
       "<Figure size 720x720 with 1 Axes>"
      ]
     },
     "metadata": {
      "needs_background": "light"
     },
     "output_type": "display_data"
    },
    {
     "data": {
      "image/png": "[encoded data removed]",
      "text/plain": [
       "<Figure size 720x720 with 1 Axes>"
      ]
     },
     "metadata": {
      "needs_background": "light"
     },
     "output_type": "display_data"
    }
   ],
   "source": [
    "for x,y  in [('Total Discharges', 'Average Medicare Payments'),('Total Discharges', 'Average Total Payments')]:\n",
    "    fig, ax = plt.subplots(figsize=(10,10)) \n",
    "    tmp = plt.scatter(x=to_plot[x],y=to_plot[y],c=to_plot['labels'].map(color_map))\n",
    "    tmp = plt.scatter(x=to_plot2[x],y=to_plot2[y],c='b',marker='*')\n",
    "    tmp = plt.xlabel(x)\n",
    "    tmp = plt.ylabel(y)\n",
    "    plt.show()"
   ]
  },
  {
   "cell_type": "markdown",
   "metadata": {},
   "source": [
    "### 4.1.2 For outpatient services"
   ]
  },
  {
   "cell_type": "code",
   "execution_count": 34,
   "metadata": {},
   "outputs": [],
   "source": [
    "provider_outpatient2 = pd.DataFrame(data=provider_outpatient[['Provider Name','Outpatient Services','Average Estimated Submitted Charges','Average Total Payments']])"
   ]
  },
  {
   "cell_type": "code",
   "execution_count": 35,
   "metadata": {},
   "outputs": [],
   "source": [
    "provider_outpatient2 = provider_outpatient2.groupby('Provider Name').mean()"
   ]
  },
  {
   "cell_type": "code",
   "execution_count": 36,
   "metadata": {},
   "outputs": [],
   "source": [
    "data = provider_outpatient2.astype(np.float)\n",
    "scaler = StandardScaler()\n",
    "data = scaler.fit_transform(data)"
   ]
  },
  {
   "cell_type": "code",
   "execution_count": 37,
   "metadata": {},
   "outputs": [
    {
     "name": "stdout",
     "output_type": "stream",
     "text": [
      "**********\n",
      "1\n",
      "0    3007\n",
      "dtype: int64\n",
      "**********\n",
      "2\n",
      "0     834\n",
      "1    2173\n",
      "dtype: int64\n",
      "**********\n",
      "3\n",
      "2      89\n",
      "0     774\n",
      "1    2144\n",
      "dtype: int64\n",
      "**********\n",
      "4\n",
      "1      89\n",
      "2     248\n",
      "3    1284\n",
      "dtype: int64\n",
      "**********\n",
      "5\n",
      "2     89\n",
      "0    199\n",
      "3    473\n",
      "dtype: int64\n",
      "**********\n",
      "6\n",
      "5     39\n",
      "1    153\n",
      "2    198\n",
      "dtype: int64\n",
      "**********\n",
      "7\n",
      "4     25\n",
      "6     63\n",
      "0    118\n",
      "dtype: int64\n",
      "**********\n",
      "8\n",
      "2     38\n",
      "4     43\n",
      "6    141\n",
      "dtype: int64\n",
      "**********\n",
      "9\n",
      "8     4\n",
      "6    40\n",
      "3    54\n",
      "dtype: int64\n",
      "**********\n",
      "10\n",
      "7     4\n",
      "0    42\n",
      "2    54\n",
      "dtype: int64\n",
      "**********\n",
      "11\n",
      "8     4\n",
      "9    22\n",
      "2    51\n",
      "dtype: int64\n",
      "**********\n",
      "12\n",
      "10     2\n",
      "6     20\n",
      "4     33\n",
      "dtype: int64\n",
      "**********\n",
      "13\n",
      "10     2\n",
      "2     20\n",
      "3     26\n",
      "dtype: int64\n",
      "**********\n",
      "14\n",
      "12    2\n",
      "13    6\n",
      "11    7\n",
      "dtype: int64\n"
     ]
    }
   ],
   "source": [
    "for K in range(1,15):\n",
    "    kmeans_model = KMeans(n_clusters=K,random_state=50).fit(data)\n",
    "    centers = np.array(kmeans_model.cluster_centers_)\n",
    "    labels = pd.Series(kmeans_model.labels_)\n",
    "    print('*'*10)\n",
    "    print(K)\n",
    "    print(labels.value_counts().sort_values()[:3])"
   ]
  },
  {
   "cell_type": "code",
   "execution_count": 38,
   "metadata": {},
   "outputs": [],
   "source": [
    "kmeans_model = KMeans(n_clusters=9,random_state=50).fit(data)\n",
    "labels = pd.Series(kmeans_model.labels_)\n",
    "labels.index = provider_outpatient2.index\n",
    "provider_outpatient2['labels'] = labels"
   ]
  },
  {
   "cell_type": "code",
   "execution_count": 39,
   "metadata": {},
   "outputs": [
    {
     "data": {
      "text/plain": [
       "Index([u'CLEVELAND CLINIC', u'EVANSTON HOSPITAL', u'LAHEY CLINIC HOSPITAL',\n",
       "       u'SCOTT & WHITE MEMORIAL HOSPITAL'],\n",
       "      dtype='object', name=u'Provider Name')"
      ]
     },
     "execution_count": 39,
     "metadata": {},
     "output_type": "execute_result"
    }
   ],
   "source": [
    "to_plot2 = provider_outpatient2[provider_outpatient2['labels'].isin(provider_outpatient2['labels'].value_counts().sort_values()[:1].index)].sort_values(by=['labels'])\n",
    "to_plot2.index"
   ]
  },
  {
   "cell_type": "markdown",
   "metadata": {},
   "source": [
    "Providers least like others for outpatient services are :\n",
    "    - CLEVELAND CLINIC\n",
    "    - EVANSTON HOSPITAL\n",
    "    - LAHEY CLINIC HOSPITAL\n",
    "    - SCOTT & WHITE MEMORIAL HOSPITAL"
   ]
  },
  {
   "cell_type": "code",
   "execution_count": 40,
   "metadata": {},
   "outputs": [],
   "source": [
    "to_plot = provider_outpatient2[provider_outpatient2['labels'].isin(provider_outpatient2['labels'].value_counts().sort_values().index)]"
   ]
  },
  {
   "cell_type": "code",
   "execution_count": 41,
   "metadata": {},
   "outputs": [
    {
     "data": {
      "image/png": "[encoded data removed]",
      "text/plain": [
       "<Figure size 720x720 with 1 Axes>"
      ]
     },
     "metadata": {
      "needs_background": "light"
     },
     "output_type": "display_data"
    },
    {
     "data": {
      "image/png": "[encoded data removed]",
      "text/plain": [
       "<Figure size 720x720 with 1 Axes>"
      ]
     },
     "metadata": {
      "needs_background": "light"
     },
     "output_type": "display_data"
    }
   ],
   "source": [
    "for x,y  in [('Outpatient Services', 'Average Estimated Submitted Charges'),('Outpatient Services', 'Average Total Payments')]:\n",
    "    fig, ax = plt.subplots(figsize=(10,10)) \n",
    "    tmp = plt.scatter(x=to_plot[x],y=to_plot[y],c=to_plot['labels'].map(color_map))\n",
    "    tmp = plt.scatter(x=to_plot2[x],y=to_plot2[y],c='b',marker='*')\n",
    "    tmp = plt.xlabel(x)\n",
    "    tmp = plt.ylabel(y)\n",
    "    plt.show()"
   ]
  },
  {
   "cell_type": "markdown",
   "metadata": {},
   "source": [
    "## 4.2 Regions Least Like Others\n",
    "    "
   ]
  },
  {
   "cell_type": "markdown",
   "metadata": {},
   "source": [
    "### 4.2.1 For inpatient services"
   ]
  },
  {
   "cell_type": "code",
   "execution_count": 42,
   "metadata": {},
   "outputs": [],
   "source": [
    "region_inpatient = pd.DataFrame(data=provider_inpatient[['Hospital Referral Region (HRR) Description','Total Discharges','Average Covered Charges','Average Total Payments','Average Medicare Payments']])"
   ]
  },
  {
   "cell_type": "code",
   "execution_count": 43,
   "metadata": {},
   "outputs": [],
   "source": [
    "region_inpatient = region_inpatient.groupby('Hospital Referral Region (HRR) Description').mean()"
   ]
  },
  {
   "cell_type": "code",
   "execution_count": 44,
   "metadata": {},
   "outputs": [],
   "source": [
    "data = region_inpatient.astype(np.float)\n",
    "scaler = StandardScaler()\n",
    "data = scaler.fit_transform(data)"
   ]
  },
  {
   "cell_type": "code",
   "execution_count": 45,
   "metadata": {},
   "outputs": [
    {
     "name": "stdout",
     "output_type": "stream",
     "text": [
      "**********\n",
      "1\n",
      "0    306\n",
      "dtype: int64\n",
      "**********\n",
      "2\n",
      "0     49\n",
      "1    257\n",
      "dtype: int64\n",
      "**********\n",
      "3\n",
      "2     44\n",
      "0     64\n",
      "1    198\n",
      "dtype: int64\n",
      "**********\n",
      "4\n",
      "2    21\n",
      "3    59\n",
      "1    64\n",
      "dtype: int64\n",
      "**********\n",
      "5\n",
      "2     9\n",
      "4    36\n",
      "3    36\n",
      "dtype: int64\n",
      "**********\n",
      "6\n",
      "2     9\n",
      "4    27\n",
      "3    31\n",
      "dtype: int64\n",
      "**********\n",
      "7\n",
      "4    15\n",
      "5    20\n",
      "2    20\n",
      "dtype: int64\n",
      "**********\n",
      "8\n",
      "2     6\n",
      "1    15\n",
      "4    24\n",
      "dtype: int64\n",
      "**********\n",
      "9\n",
      "3     3\n",
      "5     6\n",
      "8    18\n",
      "dtype: int64\n",
      "**********\n",
      "10\n",
      "9     2\n",
      "2     7\n",
      "3    17\n",
      "dtype: int64\n",
      "**********\n",
      "11\n",
      "9     2\n",
      "5     7\n",
      "7    18\n",
      "dtype: int64\n",
      "**********\n",
      "12\n",
      "11     2\n",
      "6      6\n",
      "0     10\n",
      "dtype: int64\n",
      "**********\n",
      "13\n",
      "11    2\n",
      "1     6\n",
      "12    7\n",
      "dtype: int64\n",
      "**********\n",
      "14\n",
      "11    2\n",
      "3     6\n",
      "0     8\n",
      "dtype: int64\n"
     ]
    }
   ],
   "source": [
    "for K in range(1,15):\n",
    "    kmeans_model = KMeans(n_clusters=K,random_state=50).fit(data)\n",
    "    centers = np.array(kmeans_model.cluster_centers_)\n",
    "    labels = pd.Series(kmeans_model.labels_)\n",
    "    print('*'*10)\n",
    "    print(K)\n",
    "    print(labels.value_counts().sort_values()[:3])"
   ]
  },
  {
   "cell_type": "code",
   "execution_count": 46,
   "metadata": {},
   "outputs": [],
   "source": [
    "kmeans_model = KMeans(n_clusters=5,random_state=50).fit(data)\n",
    "labels = pd.Series(kmeans_model.labels_)\n",
    "labels.index = region_inpatient.index\n",
    "region_inpatient['labels'] = labels"
   ]
  },
  {
   "cell_type": "code",
   "execution_count": 47,
   "metadata": {},
   "outputs": [
    {
     "data": {
      "text/plain": [
       "Index([u'AK - Anchorage', u'CA - Alameda County', u'CA - Contra Costa County',\n",
       "       u'CA - Salinas', u'CA - San Francisco', u'CA - San Jose',\n",
       "       u'CA - San Mateo County', u'NY - Bronx', u'NY - Manhattan'],\n",
       "      dtype='object', name=u'Hospital Referral Region (HRR) Description')"
      ]
     },
     "execution_count": 47,
     "metadata": {},
     "output_type": "execute_result"
    }
   ],
   "source": [
    "to_plot2 = region_inpatient[region_inpatient['labels'].isin(region_inpatient['labels'].value_counts().sort_values()[:1].index)].sort_values(by=['labels'])\n",
    "to_plot2.index"
   ]
  },
  {
   "cell_type": "markdown",
   "metadata": {},
   "source": [
    "Regions least like others for inpatient services :\n",
    "    - AK - Anchorage\n",
    "    - CA - Alameda County\n",
    "    - CA - Contra Costa County\n",
    "    - CA - Salinas\n",
    "    - CA - San Francisco\n",
    "    - CA - San Jose\n",
    "    - CA - San Mateo County\n",
    "    - NY - Bronx\n",
    "    - NY - Manhattan"
   ]
  },
  {
   "cell_type": "code",
   "execution_count": 48,
   "metadata": {},
   "outputs": [],
   "source": [
    "to_plot = region_inpatient[region_inpatient['labels'].isin(region_inpatient['labels'].value_counts().sort_values().index)]"
   ]
  },
  {
   "cell_type": "code",
   "execution_count": 49,
   "metadata": {},
   "outputs": [
    {
     "data": {
      "image/png": "[encoded data removed]",
      "text/plain": [
       "<Figure size 720x720 with 1 Axes>"
      ]
     },
     "metadata": {
      "needs_background": "light"
     },
     "output_type": "display_data"
    },
    {
     "data": {
      "image/png": "[encoded data removed]",
      "text/plain": [
       "<Figure size 720x720 with 1 Axes>"
      ]
     },
     "metadata": {
      "needs_background": "light"
     },
     "output_type": "display_data"
    },
    {
     "data": {
      "image/png": "[encoded data removed]",
      "text/plain": [
       "<Figure size 720x720 with 1 Axes>"
      ]
     },
     "metadata": {
      "needs_background": "light"
     },
     "output_type": "display_data"
    },
    {
     "data": {
      "image/png": "[encoded data removed]",
      "text/plain": [
       "<Figure size 720x720 with 1 Axes>"
      ]
     },
     "metadata": {
      "needs_background": "light"
     },
     "output_type": "display_data"
    },
    {
     "data": {
      "image/png": "[encoded data removed]",
      "text/plain": [
       "<Figure size 720x720 with 1 Axes>"
      ]
     },
     "metadata": {
      "needs_background": "light"
     },
     "output_type": "display_data"
    }
   ],
   "source": [
    "for x,y  in [('Total Discharges', 'Average Total Payments'),\n",
    " ('Total Discharges', 'Average Medicare Payments'),\n",
    " ('Average Covered Charges', 'Average Total Payments'),\n",
    " ('Average Covered Charges', 'Average Medicare Payments'),\n",
    " ('Average Total Payments', 'Average Medicare Payments')]:\n",
    "    fig, ax = plt.subplots(figsize=(10,10)) \n",
    "    tmp = plt.scatter(x=to_plot[x],y=to_plot[y],c=to_plot['labels'].map(color_map))\n",
    "    tmp = plt.scatter(x=to_plot2[x],y=to_plot2[y],c='b',marker='*')\n",
    "    tmp = plt.xlabel(x)\n",
    "    tmp = plt.ylabel(y)\n",
    "    plt.show()"
   ]
  },
  {
   "cell_type": "markdown",
   "metadata": {},
   "source": [
    "### 4.2.2 For outpatient services"
   ]
  },
  {
   "cell_type": "code",
   "execution_count": 50,
   "metadata": {},
   "outputs": [],
   "source": [
    "region_outpatient = pd.DataFrame(data=provider_outpatient[['Hospital Referral Region (HRR) Description','Outpatient Services','Average Estimated Submitted Charges','Average Total Payments']])"
   ]
  },
  {
   "cell_type": "code",
   "execution_count": 51,
   "metadata": {},
   "outputs": [],
   "source": [
    "region_outpatient = region_outpatient.groupby('Hospital Referral Region (HRR) Description').mean()"
   ]
  },
  {
   "cell_type": "code",
   "execution_count": 52,
   "metadata": {},
   "outputs": [],
   "source": [
    "data = region_outpatient.astype(np.float)\n",
    "scaler = StandardScaler()\n",
    "data = scaler.fit_transform(data)"
   ]
  },
  {
   "cell_type": "code",
   "execution_count": 53,
   "metadata": {},
   "outputs": [
    {
     "name": "stdout",
     "output_type": "stream",
     "text": [
      "**********\n",
      "1\n",
      "0    304\n",
      "dtype: int64\n",
      "**********\n",
      "2\n",
      "1     91\n",
      "0    213\n",
      "dtype: int64\n",
      "**********\n",
      "3\n",
      "2      1\n",
      "1     79\n",
      "0    224\n",
      "dtype: int64\n",
      "**********\n",
      "4\n",
      "3     1\n",
      "0    72\n",
      "2    77\n",
      "dtype: int64\n",
      "**********\n",
      "5\n",
      "4     1\n",
      "0    38\n",
      "2    58\n",
      "dtype: int64\n",
      "**********\n",
      "6\n",
      "3     1\n",
      "5    22\n",
      "1    31\n",
      "dtype: int64\n",
      "**********\n",
      "7\n",
      "5     1\n",
      "3    20\n",
      "2    27\n",
      "dtype: int64\n",
      "**********\n",
      "8\n",
      "7     1\n",
      "0     2\n",
      "4    25\n",
      "dtype: int64\n",
      "**********\n",
      "9\n",
      "2     1\n",
      "8     2\n",
      "7    20\n",
      "dtype: int64\n",
      "**********\n",
      "10\n",
      "6     1\n",
      "2     2\n",
      "8    20\n",
      "dtype: int64\n",
      "**********\n",
      "11\n",
      "3      1\n",
      "9      2\n",
      "10    15\n",
      "dtype: int64\n",
      "**********\n",
      "12\n",
      "3      1\n",
      "5      2\n",
      "11    12\n",
      "dtype: int64\n",
      "**********\n",
      "13\n",
      "2     1\n",
      "8     2\n",
      "11    3\n",
      "dtype: int64\n",
      "**********\n",
      "14\n",
      "2     1\n",
      "5     2\n",
      "12    3\n",
      "dtype: int64\n"
     ]
    }
   ],
   "source": [
    "for K in range(1,15):\n",
    "    kmeans_model = KMeans(n_clusters=K,random_state=50).fit(data)\n",
    "    centers = np.array(kmeans_model.cluster_centers_)\n",
    "    labels = pd.Series(kmeans_model.labels_)\n",
    "    print('*'*10)\n",
    "    print(K)\n",
    "    print(labels.value_counts().sort_values()[:3])"
   ]
  },
  {
   "cell_type": "code",
   "execution_count": 54,
   "metadata": {},
   "outputs": [],
   "source": [
    "kmeans_model = KMeans(n_clusters=8,random_state=50).fit(data)\n",
    "labels = pd.Series(kmeans_model.labels_)\n",
    "labels.index = region_outpatient.index\n",
    "region_outpatient['labels'] = labels"
   ]
  },
  {
   "cell_type": "code",
   "execution_count": 55,
   "metadata": {
    "scrolled": true
   },
   "outputs": [
    {
     "data": {
      "text/plain": [
       "Index([u'ND - Grand Forks', u'NH - Lebanon', u'TX - Temple'], dtype='object', name=u'Hospital Referral Region (HRR) Description')"
      ]
     },
     "execution_count": 55,
     "metadata": {},
     "output_type": "execute_result"
    }
   ],
   "source": [
    "to_plot2 = region_outpatient[region_outpatient['labels'].isin(region_outpatient['labels'].value_counts().sort_values()[:2].index)].sort_values(by=['labels'])\n",
    "to_plot2.index"
   ]
  },
  {
   "cell_type": "markdown",
   "metadata": {},
   "source": [
    "Regions least like others for outpatient services :\n",
    "    - ND - Grand Forks\n",
    "    - NH - Lebanon\n",
    "    - TX - Temple"
   ]
  },
  {
   "cell_type": "code",
   "execution_count": 56,
   "metadata": {},
   "outputs": [],
   "source": [
    "to_plot = region_outpatient[region_outpatient['labels'].isin(region_outpatient['labels'].value_counts().sort_values().index)]"
   ]
  },
  {
   "cell_type": "code",
   "execution_count": 57,
   "metadata": {},
   "outputs": [
    {
     "data": {
      "image/png": "[encoded data removed]",
      "text/plain": [
       "<Figure size 720x720 with 1 Axes>"
      ]
     },
     "metadata": {
      "needs_background": "light"
     },
     "output_type": "display_data"
    },
    {
     "data": {
      "image/png": "[encoded data removed]",
      "text/plain": [
       "<Figure size 720x720 with 1 Axes>"
      ]
     },
     "metadata": {
      "needs_background": "light"
     },
     "output_type": "display_data"
    }
   ],
   "source": [
    "for y,x  in [('Average Estimated Submitted Charges', 'Outpatient Services'),\n",
    " ('Average Total Payments', 'Outpatient Services')]:\n",
    "    fig, ax = plt.subplots(figsize=(10,10)) \n",
    "    tmp = plt.scatter(x=to_plot[x],y=to_plot[y],c=to_plot['labels'].map(color_map))\n",
    "    tmp = plt.scatter(x=to_plot2[x],y=to_plot2[y],c='b',marker='*')\n",
    "    tmp = plt.xlabel(x)\n",
    "    tmp = plt.ylabel(y)\n",
    "    plt.show()"
   ]
  },
  {
   "cell_type": "markdown",
   "metadata": {},
   "source": [
    "# 5  Identify 10,000 Medicare patients who are involved in anomalous activities"
   ]
  },
  {
   "cell_type": "code",
   "execution_count": 58,
   "metadata": {},
   "outputs": [
    {
     "data": {
      "text/html": [
       "<div>\n",
       "<style scoped>\n",
       "    .dataframe tbody tr th:only-of-type {\n",
       "        vertical-align: middle;\n",
       "    }\n",
       "\n",
       "    .dataframe tbody tr th {\n",
       "        vertical-align: top;\n",
       "    }\n",
       "\n",
       "    .dataframe thead th {\n",
       "        text-align: right;\n",
       "    }\n",
       "</style>\n",
       "<table border=\"1\" class=\"dataframe\">\n",
       "  <thead>\n",
       "    <tr style=\"text-align: right;\">\n",
       "      <th></th>\n",
       "      <th>0</th>\n",
       "      <th>1</th>\n",
       "      <th>2</th>\n",
       "      <th>0</th>\n",
       "    </tr>\n",
       "  </thead>\n",
       "  <tbody>\n",
       "    <tr>\n",
       "      <th>gender</th>\n",
       "      <td>object</td>\n",
       "      <td>0.0</td>\n",
       "      <td>2</td>\n",
       "      <td>F</td>\n",
       "    </tr>\n",
       "    <tr>\n",
       "      <th>age</th>\n",
       "      <td>object</td>\n",
       "      <td>0.0</td>\n",
       "      <td>4</td>\n",
       "      <td>65-74</td>\n",
       "    </tr>\n",
       "    <tr>\n",
       "      <th>income</th>\n",
       "      <td>object</td>\n",
       "      <td>0.0</td>\n",
       "      <td>5</td>\n",
       "      <td>24000-31999</td>\n",
       "    </tr>\n",
       "    <tr>\n",
       "      <th>id</th>\n",
       "      <td>int64</td>\n",
       "      <td>0.0</td>\n",
       "      <td>494951</td>\n",
       "      <td>306535165</td>\n",
       "    </tr>\n",
       "  </tbody>\n",
       "</table>\n",
       "</div>"
      ],
      "text/plain": [
       "             0    1       2            0\n",
       "gender  object  0.0       2            F\n",
       "age     object  0.0       4        65-74\n",
       "income  object  0.0       5  24000-31999\n",
       "id       int64  0.0  494951    306535165"
      ]
     },
     "execution_count": 58,
     "metadata": {},
     "output_type": "execute_result"
    },
    {
     "data": {
      "text/plain": [
       "(494951, 4)"
      ]
     },
     "execution_count": 58,
     "metadata": {},
     "output_type": "execute_result"
    },
    {
     "data": {
      "text/html": [
       "<div>\n",
       "<style scoped>\n",
       "    .dataframe tbody tr th:only-of-type {\n",
       "        vertical-align: middle;\n",
       "    }\n",
       "\n",
       "    .dataframe tbody tr th {\n",
       "        vertical-align: top;\n",
       "    }\n",
       "\n",
       "    .dataframe thead th {\n",
       "        text-align: right;\n",
       "    }\n",
       "</style>\n",
       "<table border=\"1\" class=\"dataframe\">\n",
       "  <thead>\n",
       "    <tr style=\"text-align: right;\">\n",
       "      <th></th>\n",
       "      <th>0</th>\n",
       "      <th>1</th>\n",
       "      <th>2</th>\n",
       "      <th>0</th>\n",
       "    </tr>\n",
       "  </thead>\n",
       "  <tbody>\n",
       "    <tr>\n",
       "      <th>gender</th>\n",
       "      <td>object</td>\n",
       "      <td>0.0</td>\n",
       "      <td>2</td>\n",
       "      <td>F</td>\n",
       "    </tr>\n",
       "    <tr>\n",
       "      <th>age</th>\n",
       "      <td>object</td>\n",
       "      <td>0.0</td>\n",
       "      <td>4</td>\n",
       "      <td>65-74</td>\n",
       "    </tr>\n",
       "    <tr>\n",
       "      <th>income</th>\n",
       "      <td>object</td>\n",
       "      <td>0.0</td>\n",
       "      <td>5</td>\n",
       "      <td>24000-31999</td>\n",
       "    </tr>\n",
       "    <tr>\n",
       "      <th>id</th>\n",
       "      <td>int64</td>\n",
       "      <td>0.0</td>\n",
       "      <td>4948</td>\n",
       "      <td>381693273</td>\n",
       "    </tr>\n",
       "  </tbody>\n",
       "</table>\n",
       "</div>"
      ],
      "text/plain": [
       "             0    1     2            0\n",
       "gender  object  0.0     2            F\n",
       "age     object  0.0     4        65-74\n",
       "income  object  0.0     5  24000-31999\n",
       "id       int64  0.0  4948    381693273"
      ]
     },
     "execution_count": 58,
     "metadata": {},
     "output_type": "execute_result"
    },
    {
     "data": {
      "text/plain": [
       "(4948, 4)"
      ]
     },
     "execution_count": 58,
     "metadata": {},
     "output_type": "execute_result"
    }
   ],
   "source": [
    "df = patient_history\n",
    "pd.concat([df.dtypes,(df.isna().sum()/df.shape[0])*100,df.nunique(),df.iloc[0]],axis=1).sort_values(by=[2])\n",
    "patient_history.shape\n",
    "\n",
    "df = review\n",
    "pd.concat([df.dtypes,(df.isna().sum()/df.shape[0])*100,df.nunique(),df.iloc[0]],axis=1).sort_values(by=[2])\n",
    "df.shape"
   ]
  },
  {
   "cell_type": "code",
   "execution_count": 59,
   "metadata": {},
   "outputs": [
    {
     "data": {
      "text/plain": [
       "0"
      ]
     },
     "execution_count": 59,
     "metadata": {},
     "output_type": "execute_result"
    },
    {
     "data": {
      "text/plain": [
       "id        494951\n",
       "age            4\n",
       "gender         2\n",
       "income         5\n",
       "dtype: int64"
      ]
     },
     "execution_count": 59,
     "metadata": {},
     "output_type": "execute_result"
    },
    {
     "data": {
      "text/plain": [
       "id        4948\n",
       "age          4\n",
       "gender       2\n",
       "income       5\n",
       "dtype: int64"
      ]
     },
     "execution_count": 59,
     "metadata": {},
     "output_type": "execute_result"
    }
   ],
   "source": [
    "patient_history.id.isin(review.id).sum()\n",
    "patient_history.nunique()\n",
    "review.nunique()"
   ]
  },
  {
   "cell_type": "code",
   "execution_count": 60,
   "metadata": {},
   "outputs": [],
   "source": [
    "# Merging Patient_history and review , and creating review flag to identify patients who have been reviewed\n",
    "patient_history = pd.concat([patient_history,review],axis=0).reset_index()\n",
    "patient_history.drop(columns=['index'],inplace=True)\n",
    "patient_history['REVIEW_FLAG']  = np.where(patient_history.id.isin(review.id),1,0)"
   ]
  },
  {
   "cell_type": "code",
   "execution_count": 61,
   "metadata": {},
   "outputs": [
    {
     "data": {
      "text/plain": [
       "0"
      ]
     },
     "execution_count": 61,
     "metadata": {},
     "output_type": "execute_result"
    }
   ],
   "source": [
    "patient_history.index.duplicated().sum()"
   ]
  },
  {
   "cell_type": "code",
   "execution_count": 62,
   "metadata": {},
   "outputs": [
    {
     "data": {
      "text/plain": [
       "array(['65-74', '75-84', '<65', '85+'], dtype=object)"
      ]
     },
     "execution_count": 62,
     "metadata": {},
     "output_type": "execute_result"
    },
    {
     "data": {
      "text/plain": [
       "array(['24000-31999', '48000+', '32000-47999', '<16000', '16000-23999'],\n",
       "      dtype=object)"
      ]
     },
     "execution_count": 62,
     "metadata": {},
     "output_type": "execute_result"
    },
    {
     "data": {
      "text/plain": [
       "array(['F', 'M'], dtype=object)"
      ]
     },
     "execution_count": 62,
     "metadata": {},
     "output_type": "execute_result"
    }
   ],
   "source": [
    "# Converting age and income to ordinal variables\n",
    "# Converting gender to binary variable\n",
    "patient_history['age'].unique()\n",
    "patient_history['income'].unique()\n",
    "patient_history['gender'].unique()"
   ]
  },
  {
   "cell_type": "code",
   "execution_count": 63,
   "metadata": {},
   "outputs": [],
   "source": [
    "age_map = {'65-74':1, '75-84':2, '<65':0, '85+':3}\n",
    "income_map = {'24000-31999':2, '48000+':4, '32000-47999':3, '<16000':0, '16000-23999':1}\n",
    "gender_map = {'F':0,'M':1}\n",
    "\n",
    "patient_history['age']  = patient_history['age'].map(age_map)\n",
    "patient_history['income'] = patient_history['income'].map(income_map)\n",
    "patient_history['gender'] = patient_history['gender'].map(gender_map)"
   ]
  },
  {
   "cell_type": "code",
   "execution_count": 64,
   "metadata": {},
   "outputs": [
    {
     "data": {
      "text/html": [
       "<div>\n",
       "<style scoped>\n",
       "    .dataframe tbody tr th:only-of-type {\n",
       "        vertical-align: middle;\n",
       "    }\n",
       "\n",
       "    .dataframe tbody tr th {\n",
       "        vertical-align: top;\n",
       "    }\n",
       "\n",
       "    .dataframe thead th {\n",
       "        text-align: right;\n",
       "    }\n",
       "</style>\n",
       "<table border=\"1\" class=\"dataframe\">\n",
       "  <thead>\n",
       "    <tr style=\"text-align: right;\">\n",
       "      <th></th>\n",
       "      <th>id</th>\n",
       "      <th>age</th>\n",
       "      <th>gender</th>\n",
       "      <th>income</th>\n",
       "      <th>REVIEW_FLAG</th>\n",
       "    </tr>\n",
       "  </thead>\n",
       "  <tbody>\n",
       "    <tr>\n",
       "      <th>0</th>\n",
       "      <td>306535165</td>\n",
       "      <td>1</td>\n",
       "      <td>0</td>\n",
       "      <td>2</td>\n",
       "      <td>0</td>\n",
       "    </tr>\n",
       "    <tr>\n",
       "      <th>1</th>\n",
       "      <td>742231134</td>\n",
       "      <td>1</td>\n",
       "      <td>0</td>\n",
       "      <td>4</td>\n",
       "      <td>0</td>\n",
       "    </tr>\n",
       "  </tbody>\n",
       "</table>\n",
       "</div>"
      ],
      "text/plain": [
       "          id  age  gender  income  REVIEW_FLAG\n",
       "0  306535165    1       0       2            0\n",
       "1  742231134    1       0       4            0"
      ]
     },
     "execution_count": 64,
     "metadata": {},
     "output_type": "execute_result"
    }
   ],
   "source": [
    "patient_history.head(2)"
   ]
  },
  {
   "cell_type": "code",
   "execution_count": 65,
   "metadata": {
    "scrolled": false
   },
   "outputs": [
    {
     "data": {
      "text/plain": [
       "age       0\n",
       "income    0\n",
       "gender    0\n",
       "dtype: int64"
      ]
     },
     "execution_count": 65,
     "metadata": {},
     "output_type": "execute_result"
    }
   ],
   "source": [
    "# Scaling data to apply kmeans later\n",
    "patient_history_std = pd.DataFrame(StandardScaler().fit_transform(patient_history[['age','income','gender']].astype(float)))\n",
    "patient_history_std.columns = ['age','income','gender']\n",
    "patient_history_std.isna().sum()"
   ]
  },
  {
   "cell_type": "code",
   "execution_count": 66,
   "metadata": {},
   "outputs": [
    {
     "data": {
      "text/html": [
       "<div>\n",
       "<style scoped>\n",
       "    .dataframe tbody tr th:only-of-type {\n",
       "        vertical-align: middle;\n",
       "    }\n",
       "\n",
       "    .dataframe tbody tr th {\n",
       "        vertical-align: top;\n",
       "    }\n",
       "\n",
       "    .dataframe thead th {\n",
       "        text-align: right;\n",
       "    }\n",
       "</style>\n",
       "<table border=\"1\" class=\"dataframe\">\n",
       "  <thead>\n",
       "    <tr style=\"text-align: right;\">\n",
       "      <th></th>\n",
       "      <th>0</th>\n",
       "      <th>1</th>\n",
       "      <th>2</th>\n",
       "      <th>0</th>\n",
       "    </tr>\n",
       "  </thead>\n",
       "  <tbody>\n",
       "    <tr>\n",
       "      <th>count</th>\n",
       "      <td>int64</td>\n",
       "      <td>0.0</td>\n",
       "      <td>1</td>\n",
       "      <td>1</td>\n",
       "    </tr>\n",
       "    <tr>\n",
       "      <th>global_proc_id</th>\n",
       "      <td>int64</td>\n",
       "      <td>0.0</td>\n",
       "      <td>130</td>\n",
       "      <td>1</td>\n",
       "    </tr>\n",
       "    <tr>\n",
       "      <th>id</th>\n",
       "      <td>int64</td>\n",
       "      <td>0.0</td>\n",
       "      <td>505000</td>\n",
       "      <td>159125</td>\n",
       "    </tr>\n",
       "  </tbody>\n",
       "</table>\n",
       "</div>"
      ],
      "text/plain": [
       "                    0    1       2       0\n",
       "count           int64  0.0       1       1\n",
       "global_proc_id  int64  0.0     130       1\n",
       "id              int64  0.0  505000  159125"
      ]
     },
     "execution_count": 66,
     "metadata": {},
     "output_type": "execute_result"
    },
    {
     "data": {
      "text/plain": [
       "(1514809, 3)"
      ]
     },
     "execution_count": 66,
     "metadata": {},
     "output_type": "execute_result"
    }
   ],
   "source": [
    "df = transaction_coo\n",
    "pd.concat([df.dtypes,(df.isna().sum()/df.shape[0])*100,df.nunique(),df.iloc[0]],axis=1).sort_values(by=[2])\n",
    "df.shape"
   ]
  },
  {
   "cell_type": "code",
   "execution_count": 67,
   "metadata": {},
   "outputs": [],
   "source": [
    "def create_dummies(df,col):\n",
    "    df_dum = pd.get_dummies(df[col],prefix=col)\n",
    "    df = pd.concat([df,df_dum],axis=1)\n",
    "    return(df)"
   ]
  },
  {
   "cell_type": "code",
   "execution_count": 68,
   "metadata": {},
   "outputs": [],
   "source": [
    "# One hot encoding the global_proc_id\n",
    "dumpro = pd.DataFrame(transaction_coo[['global_proc_id']])\n",
    "dum_cols = ['global_proc_id']\n",
    "for col in dum_cols:\n",
    "    dumpro = create_dummies(dumpro,col)"
   ]
  },
  {
   "cell_type": "code",
   "execution_count": 69,
   "metadata": {},
   "outputs": [
    {
     "data": {
      "text/html": [
       "<div>\n",
       "<style scoped>\n",
       "    .dataframe tbody tr th:only-of-type {\n",
       "        vertical-align: middle;\n",
       "    }\n",
       "\n",
       "    .dataframe tbody tr th {\n",
       "        vertical-align: top;\n",
       "    }\n",
       "\n",
       "    .dataframe thead th {\n",
       "        text-align: right;\n",
       "    }\n",
       "</style>\n",
       "<table border=\"1\" class=\"dataframe\">\n",
       "  <thead>\n",
       "    <tr style=\"text-align: right;\">\n",
       "      <th></th>\n",
       "      <th>global_proc_id</th>\n",
       "      <th>global_proc_id_1</th>\n",
       "      <th>global_proc_id_2</th>\n",
       "      <th>global_proc_id_3</th>\n",
       "      <th>global_proc_id_4</th>\n",
       "      <th>global_proc_id_5</th>\n",
       "      <th>global_proc_id_6</th>\n",
       "      <th>global_proc_id_7</th>\n",
       "      <th>global_proc_id_8</th>\n",
       "      <th>global_proc_id_9</th>\n",
       "      <th>...</th>\n",
       "      <th>global_proc_id_121</th>\n",
       "      <th>global_proc_id_122</th>\n",
       "      <th>global_proc_id_123</th>\n",
       "      <th>global_proc_id_124</th>\n",
       "      <th>global_proc_id_125</th>\n",
       "      <th>global_proc_id_126</th>\n",
       "      <th>global_proc_id_127</th>\n",
       "      <th>global_proc_id_128</th>\n",
       "      <th>global_proc_id_129</th>\n",
       "      <th>global_proc_id_130</th>\n",
       "    </tr>\n",
       "  </thead>\n",
       "  <tbody>\n",
       "    <tr>\n",
       "      <th>0</th>\n",
       "      <td>1</td>\n",
       "      <td>1</td>\n",
       "      <td>0</td>\n",
       "      <td>0</td>\n",
       "      <td>0</td>\n",
       "      <td>0</td>\n",
       "      <td>0</td>\n",
       "      <td>0</td>\n",
       "      <td>0</td>\n",
       "      <td>0</td>\n",
       "      <td>...</td>\n",
       "      <td>0</td>\n",
       "      <td>0</td>\n",
       "      <td>0</td>\n",
       "      <td>0</td>\n",
       "      <td>0</td>\n",
       "      <td>0</td>\n",
       "      <td>0</td>\n",
       "      <td>0</td>\n",
       "      <td>0</td>\n",
       "      <td>0</td>\n",
       "    </tr>\n",
       "    <tr>\n",
       "      <th>1</th>\n",
       "      <td>1</td>\n",
       "      <td>1</td>\n",
       "      <td>0</td>\n",
       "      <td>0</td>\n",
       "      <td>0</td>\n",
       "      <td>0</td>\n",
       "      <td>0</td>\n",
       "      <td>0</td>\n",
       "      <td>0</td>\n",
       "      <td>0</td>\n",
       "      <td>...</td>\n",
       "      <td>0</td>\n",
       "      <td>0</td>\n",
       "      <td>0</td>\n",
       "      <td>0</td>\n",
       "      <td>0</td>\n",
       "      <td>0</td>\n",
       "      <td>0</td>\n",
       "      <td>0</td>\n",
       "      <td>0</td>\n",
       "      <td>0</td>\n",
       "    </tr>\n",
       "  </tbody>\n",
       "</table>\n",
       "<p>2 rows × 131 columns</p>\n",
       "</div>"
      ],
      "text/plain": [
       "   global_proc_id  global_proc_id_1  global_proc_id_2  global_proc_id_3  \\\n",
       "0               1                 1                 0                 0   \n",
       "1               1                 1                 0                 0   \n",
       "\n",
       "   global_proc_id_4  global_proc_id_5  global_proc_id_6  global_proc_id_7  \\\n",
       "0                 0                 0                 0                 0   \n",
       "1                 0                 0                 0                 0   \n",
       "\n",
       "   global_proc_id_8  global_proc_id_9         ...          global_proc_id_121  \\\n",
       "0                 0                 0         ...                           0   \n",
       "1                 0                 0         ...                           0   \n",
       "\n",
       "   global_proc_id_122  global_proc_id_123  global_proc_id_124  \\\n",
       "0                   0                   0                   0   \n",
       "1                   0                   0                   0   \n",
       "\n",
       "   global_proc_id_125  global_proc_id_126  global_proc_id_127  \\\n",
       "0                   0                   0                   0   \n",
       "1                   0                   0                   0   \n",
       "\n",
       "   global_proc_id_128  global_proc_id_129  global_proc_id_130  \n",
       "0                   0                   0                   0  \n",
       "1                   0                   0                   0  \n",
       "\n",
       "[2 rows x 131 columns]"
      ]
     },
     "execution_count": 69,
     "metadata": {},
     "output_type": "execute_result"
    }
   ],
   "source": [
    "dumpro.head(2)"
   ]
  },
  {
   "cell_type": "code",
   "execution_count": 70,
   "metadata": {},
   "outputs": [
    {
     "data": {
      "text/plain": [
       "TruncatedSVD(algorithm='randomized', n_components=10, n_iter=5,\n",
       "       random_state=50, tol=0.0)"
      ]
     },
     "execution_count": 70,
     "metadata": {},
     "output_type": "execute_result"
    }
   ],
   "source": [
    "# Performing Truncated Singular Value Decomposition on dumpro to reduce dimensions\n",
    "data=dumpro.iloc[:,1:]\n",
    "svd = TruncatedSVD(n_components=10,random_state=50)\n",
    "svdpro=svd.fit(data)\n",
    "svdpro"
   ]
  },
  {
   "cell_type": "code",
   "execution_count": 71,
   "metadata": {
    "scrolled": true
   },
   "outputs": [
    {
     "data": {
      "text/plain": [
       "global_proc_id_130    0\n",
       "global_proc_id_33     0\n",
       "global_proc_id_35     0\n",
       "global_proc_id_36     0\n",
       "global_proc_id_37     0\n",
       "dtype: int64"
      ]
     },
     "execution_count": 71,
     "metadata": {},
     "output_type": "execute_result"
    }
   ],
   "source": [
    "data.isna().sum().sort_values(ascending=False).head()"
   ]
  },
  {
   "cell_type": "code",
   "execution_count": 72,
   "metadata": {},
   "outputs": [
    {
     "data": {
      "text/plain": [
       "<matplotlib.axes._subplots.AxesSubplot at 0x10d268d0>"
      ]
     },
     "execution_count": 72,
     "metadata": {},
     "output_type": "execute_result"
    },
    {
     "data": {
      "image/png": "[encoded data removed]",
      "text/plain": [
       "<Figure size 432x288 with 1 Axes>"
      ]
     },
     "metadata": {
      "needs_background": "light"
     },
     "output_type": "display_data"
    }
   ],
   "source": [
    "# Absolute sum of loading for each binary variable\n",
    "sns.lineplot(x=pd.DataFrame(svdpro.components_).abs().sum().sort_values(ascending=False).reset_index().index ,y=pd.DataFrame(svdpro.components_).abs().sum().sort_values(ascending=False).reset_index()[0])"
   ]
  },
  {
   "cell_type": "code",
   "execution_count": 73,
   "metadata": {},
   "outputs": [
    {
     "data": {
      "text/plain": [
       "Int64Index([19, 21, 33, 12, 27, 18, 16, 26, 24, 25], dtype='int64')"
      ]
     },
     "execution_count": 73,
     "metadata": {},
     "output_type": "execute_result"
    }
   ],
   "source": [
    "# Selecting 10 binary variables which have loadings sum greater than zero\n",
    "proc_id = pd.DataFrame(svdpro.components_).abs().sum().sort_values(ascending=False)[:10].index\n",
    "proc_id"
   ]
  },
  {
   "cell_type": "code",
   "execution_count": 74,
   "metadata": {},
   "outputs": [
    {
     "data": {
      "text/plain": [
       "['global_proc_id_12',\n",
       " 'global_proc_id_16',\n",
       " 'global_proc_id_18',\n",
       " 'global_proc_id_19',\n",
       " 'global_proc_id_21',\n",
       " 'global_proc_id_24',\n",
       " 'global_proc_id_25',\n",
       " 'global_proc_id_26',\n",
       " 'global_proc_id_27',\n",
       " 'global_proc_id_33',\n",
       " 'global_proc_id']"
      ]
     },
     "execution_count": 74,
     "metadata": {},
     "output_type": "execute_result"
    }
   ],
   "source": [
    "svd_dum_col = [col for col in dumpro.columns if col != 'global_proc_id' and int(col.split('_')[3]) in proc_id]\n",
    "svd_dum_col.append('global_proc_id')\n",
    "svd_dum_col"
   ]
  },
  {
   "cell_type": "code",
   "execution_count": 75,
   "metadata": {
    "scrolled": true
   },
   "outputs": [
    {
     "data": {
      "text/html": [
       "<div>\n",
       "<style scoped>\n",
       "    .dataframe tbody tr th:only-of-type {\n",
       "        vertical-align: middle;\n",
       "    }\n",
       "\n",
       "    .dataframe tbody tr th {\n",
       "        vertical-align: top;\n",
       "    }\n",
       "\n",
       "    .dataframe thead th {\n",
       "        text-align: right;\n",
       "    }\n",
       "</style>\n",
       "<table border=\"1\" class=\"dataframe\">\n",
       "  <thead>\n",
       "    <tr style=\"text-align: right;\">\n",
       "      <th></th>\n",
       "      <th>id</th>\n",
       "      <th>age</th>\n",
       "      <th>gender</th>\n",
       "      <th>income</th>\n",
       "      <th>REVIEW_FLAG</th>\n",
       "    </tr>\n",
       "  </thead>\n",
       "  <tbody>\n",
       "    <tr>\n",
       "      <th>0</th>\n",
       "      <td>306535165</td>\n",
       "      <td>1</td>\n",
       "      <td>0</td>\n",
       "      <td>2</td>\n",
       "      <td>0</td>\n",
       "    </tr>\n",
       "    <tr>\n",
       "      <th>1</th>\n",
       "      <td>742231134</td>\n",
       "      <td>1</td>\n",
       "      <td>0</td>\n",
       "      <td>4</td>\n",
       "      <td>0</td>\n",
       "    </tr>\n",
       "  </tbody>\n",
       "</table>\n",
       "</div>"
      ],
      "text/plain": [
       "          id  age  gender  income  REVIEW_FLAG\n",
       "0  306535165    1       0       2            0\n",
       "1  742231134    1       0       4            0"
      ]
     },
     "execution_count": 75,
     "metadata": {},
     "output_type": "execute_result"
    },
    {
     "data": {
      "text/plain": [
       "(499899, 5)"
      ]
     },
     "execution_count": 75,
     "metadata": {},
     "output_type": "execute_result"
    },
    {
     "data": {
      "text/plain": [
       "id             0\n",
       "age            0\n",
       "gender         0\n",
       "income         0\n",
       "REVIEW_FLAG    0\n",
       "dtype: int64"
      ]
     },
     "execution_count": 75,
     "metadata": {},
     "output_type": "execute_result"
    },
    {
     "data": {
      "text/html": [
       "<div>\n",
       "<style scoped>\n",
       "    .dataframe tbody tr th:only-of-type {\n",
       "        vertical-align: middle;\n",
       "    }\n",
       "\n",
       "    .dataframe tbody tr th {\n",
       "        vertical-align: top;\n",
       "    }\n",
       "\n",
       "    .dataframe thead th {\n",
       "        text-align: right;\n",
       "    }\n",
       "</style>\n",
       "<table border=\"1\" class=\"dataframe\">\n",
       "  <thead>\n",
       "    <tr style=\"text-align: right;\">\n",
       "      <th></th>\n",
       "      <th>age</th>\n",
       "      <th>income</th>\n",
       "      <th>gender</th>\n",
       "    </tr>\n",
       "  </thead>\n",
       "  <tbody>\n",
       "    <tr>\n",
       "      <th>0</th>\n",
       "      <td>-0.383535</td>\n",
       "      <td>-0.013522</td>\n",
       "      <td>-0.906123</td>\n",
       "    </tr>\n",
       "    <tr>\n",
       "      <th>1</th>\n",
       "      <td>-0.383535</td>\n",
       "      <td>1.336348</td>\n",
       "      <td>-0.906123</td>\n",
       "    </tr>\n",
       "  </tbody>\n",
       "</table>\n",
       "</div>"
      ],
      "text/plain": [
       "        age    income    gender\n",
       "0 -0.383535 -0.013522 -0.906123\n",
       "1 -0.383535  1.336348 -0.906123"
      ]
     },
     "execution_count": 75,
     "metadata": {},
     "output_type": "execute_result"
    },
    {
     "data": {
      "text/plain": [
       "(499899, 3)"
      ]
     },
     "execution_count": 75,
     "metadata": {},
     "output_type": "execute_result"
    },
    {
     "data": {
      "text/plain": [
       "age       0\n",
       "income    0\n",
       "gender    0\n",
       "dtype: int64"
      ]
     },
     "execution_count": 75,
     "metadata": {},
     "output_type": "execute_result"
    }
   ],
   "source": [
    "patient_history.head(2)\n",
    "patient_history.shape\n",
    "patient_history.isna().sum()\n",
    "patient_history_std.head(2)\n",
    "patient_history_std.shape\n",
    "patient_history_std.isna().sum()"
   ]
  },
  {
   "cell_type": "code",
   "execution_count": 76,
   "metadata": {},
   "outputs": [],
   "source": [
    "patient_history_std['id'] = patient_history['id']"
   ]
  },
  {
   "cell_type": "code",
   "execution_count": 77,
   "metadata": {},
   "outputs": [
    {
     "data": {
      "text/html": [
       "<div>\n",
       "<style scoped>\n",
       "    .dataframe tbody tr th:only-of-type {\n",
       "        vertical-align: middle;\n",
       "    }\n",
       "\n",
       "    .dataframe tbody tr th {\n",
       "        vertical-align: top;\n",
       "    }\n",
       "\n",
       "    .dataframe thead th {\n",
       "        text-align: right;\n",
       "    }\n",
       "</style>\n",
       "<table border=\"1\" class=\"dataframe\">\n",
       "  <thead>\n",
       "    <tr style=\"text-align: right;\">\n",
       "      <th></th>\n",
       "      <th>id</th>\n",
       "      <th>age</th>\n",
       "      <th>gender</th>\n",
       "      <th>income</th>\n",
       "      <th>REVIEW_FLAG</th>\n",
       "    </tr>\n",
       "  </thead>\n",
       "  <tbody>\n",
       "    <tr>\n",
       "      <th>0</th>\n",
       "      <td>306535165</td>\n",
       "      <td>1</td>\n",
       "      <td>0</td>\n",
       "      <td>2</td>\n",
       "      <td>0</td>\n",
       "    </tr>\n",
       "    <tr>\n",
       "      <th>1</th>\n",
       "      <td>742231134</td>\n",
       "      <td>1</td>\n",
       "      <td>0</td>\n",
       "      <td>4</td>\n",
       "      <td>0</td>\n",
       "    </tr>\n",
       "  </tbody>\n",
       "</table>\n",
       "</div>"
      ],
      "text/plain": [
       "          id  age  gender  income  REVIEW_FLAG\n",
       "0  306535165    1       0       2            0\n",
       "1  742231134    1       0       4            0"
      ]
     },
     "execution_count": 77,
     "metadata": {},
     "output_type": "execute_result"
    },
    {
     "data": {
      "text/html": [
       "<div>\n",
       "<style scoped>\n",
       "    .dataframe tbody tr th:only-of-type {\n",
       "        vertical-align: middle;\n",
       "    }\n",
       "\n",
       "    .dataframe tbody tr th {\n",
       "        vertical-align: top;\n",
       "    }\n",
       "\n",
       "    .dataframe thead th {\n",
       "        text-align: right;\n",
       "    }\n",
       "</style>\n",
       "<table border=\"1\" class=\"dataframe\">\n",
       "  <thead>\n",
       "    <tr style=\"text-align: right;\">\n",
       "      <th></th>\n",
       "      <th>age</th>\n",
       "      <th>income</th>\n",
       "      <th>gender</th>\n",
       "      <th>id</th>\n",
       "    </tr>\n",
       "  </thead>\n",
       "  <tbody>\n",
       "    <tr>\n",
       "      <th>0</th>\n",
       "      <td>-0.383535</td>\n",
       "      <td>-0.013522</td>\n",
       "      <td>-0.906123</td>\n",
       "      <td>306535165</td>\n",
       "    </tr>\n",
       "    <tr>\n",
       "      <th>1</th>\n",
       "      <td>-0.383535</td>\n",
       "      <td>1.336348</td>\n",
       "      <td>-0.906123</td>\n",
       "      <td>742231134</td>\n",
       "    </tr>\n",
       "  </tbody>\n",
       "</table>\n",
       "</div>"
      ],
      "text/plain": [
       "        age    income    gender         id\n",
       "0 -0.383535 -0.013522 -0.906123  306535165\n",
       "1 -0.383535  1.336348 -0.906123  742231134"
      ]
     },
     "execution_count": 77,
     "metadata": {},
     "output_type": "execute_result"
    }
   ],
   "source": [
    "patient_history.head(2)\n",
    "patient_history_std.head(2)"
   ]
  },
  {
   "cell_type": "code",
   "execution_count": 78,
   "metadata": {
    "scrolled": true
   },
   "outputs": [
    {
     "data": {
      "text/html": [
       "<div>\n",
       "<style scoped>\n",
       "    .dataframe tbody tr th:only-of-type {\n",
       "        vertical-align: middle;\n",
       "    }\n",
       "\n",
       "    .dataframe tbody tr th {\n",
       "        vertical-align: top;\n",
       "    }\n",
       "\n",
       "    .dataframe thead th {\n",
       "        text-align: right;\n",
       "    }\n",
       "</style>\n",
       "<table border=\"1\" class=\"dataframe\">\n",
       "  <thead>\n",
       "    <tr style=\"text-align: right;\">\n",
       "      <th></th>\n",
       "      <th>global_proc_id_12</th>\n",
       "      <th>global_proc_id_16</th>\n",
       "      <th>global_proc_id_18</th>\n",
       "      <th>global_proc_id_19</th>\n",
       "      <th>global_proc_id_21</th>\n",
       "      <th>global_proc_id_24</th>\n",
       "      <th>global_proc_id_25</th>\n",
       "      <th>global_proc_id_26</th>\n",
       "      <th>global_proc_id_27</th>\n",
       "      <th>global_proc_id_33</th>\n",
       "      <th>global_proc_id</th>\n",
       "      <th>id</th>\n",
       "    </tr>\n",
       "  </thead>\n",
       "  <tbody>\n",
       "    <tr>\n",
       "      <th>0</th>\n",
       "      <td>0</td>\n",
       "      <td>0</td>\n",
       "      <td>0</td>\n",
       "      <td>0</td>\n",
       "      <td>0</td>\n",
       "      <td>0</td>\n",
       "      <td>0</td>\n",
       "      <td>0</td>\n",
       "      <td>0</td>\n",
       "      <td>0</td>\n",
       "      <td>1</td>\n",
       "      <td>159125</td>\n",
       "    </tr>\n",
       "    <tr>\n",
       "      <th>1</th>\n",
       "      <td>0</td>\n",
       "      <td>0</td>\n",
       "      <td>0</td>\n",
       "      <td>0</td>\n",
       "      <td>0</td>\n",
       "      <td>0</td>\n",
       "      <td>0</td>\n",
       "      <td>0</td>\n",
       "      <td>0</td>\n",
       "      <td>0</td>\n",
       "      <td>1</td>\n",
       "      <td>191852</td>\n",
       "    </tr>\n",
       "  </tbody>\n",
       "</table>\n",
       "</div>"
      ],
      "text/plain": [
       "   global_proc_id_12  global_proc_id_16  global_proc_id_18  global_proc_id_19  \\\n",
       "0                  0                  0                  0                  0   \n",
       "1                  0                  0                  0                  0   \n",
       "\n",
       "   global_proc_id_21  global_proc_id_24  global_proc_id_25  global_proc_id_26  \\\n",
       "0                  0                  0                  0                  0   \n",
       "1                  0                  0                  0                  0   \n",
       "\n",
       "   global_proc_id_27  global_proc_id_33  global_proc_id      id  \n",
       "0                  0                  0               1  159125  \n",
       "1                  0                  0               1  191852  "
      ]
     },
     "execution_count": 78,
     "metadata": {},
     "output_type": "execute_result"
    }
   ],
   "source": [
    "svdpro2 = dumpro.loc[:,svd_dum_col]\n",
    "svdpro2['id'] = transaction_coo['id']\n",
    "svdpro2.head(2)"
   ]
  },
  {
   "cell_type": "code",
   "execution_count": 79,
   "metadata": {
    "scrolled": true
   },
   "outputs": [],
   "source": [
    "# merging patient data and selected binary variables from transaction data over id \n",
    "patient_history_std = pd.merge(patient_history_std,svdpro2,on='id')"
   ]
  },
  {
   "cell_type": "code",
   "execution_count": 80,
   "metadata": {
    "scrolled": false
   },
   "outputs": [
    {
     "data": {
      "text/html": [
       "<div>\n",
       "<style scoped>\n",
       "    .dataframe tbody tr th:only-of-type {\n",
       "        vertical-align: middle;\n",
       "    }\n",
       "\n",
       "    .dataframe tbody tr th {\n",
       "        vertical-align: top;\n",
       "    }\n",
       "\n",
       "    .dataframe thead th {\n",
       "        text-align: right;\n",
       "    }\n",
       "</style>\n",
       "<table border=\"1\" class=\"dataframe\">\n",
       "  <thead>\n",
       "    <tr style=\"text-align: right;\">\n",
       "      <th></th>\n",
       "      <th>age</th>\n",
       "      <th>income</th>\n",
       "      <th>gender</th>\n",
       "      <th>id</th>\n",
       "      <th>global_proc_id_12</th>\n",
       "      <th>global_proc_id_16</th>\n",
       "      <th>global_proc_id_18</th>\n",
       "      <th>global_proc_id_19</th>\n",
       "      <th>global_proc_id_21</th>\n",
       "      <th>global_proc_id_24</th>\n",
       "      <th>global_proc_id_25</th>\n",
       "      <th>global_proc_id_26</th>\n",
       "      <th>global_proc_id_27</th>\n",
       "      <th>global_proc_id_33</th>\n",
       "      <th>global_proc_id</th>\n",
       "    </tr>\n",
       "  </thead>\n",
       "  <tbody>\n",
       "    <tr>\n",
       "      <th>0</th>\n",
       "      <td>-0.383535</td>\n",
       "      <td>-0.013522</td>\n",
       "      <td>-0.906123</td>\n",
       "      <td>306535165</td>\n",
       "      <td>0</td>\n",
       "      <td>0</td>\n",
       "      <td>0</td>\n",
       "      <td>0</td>\n",
       "      <td>0</td>\n",
       "      <td>0</td>\n",
       "      <td>1</td>\n",
       "      <td>0</td>\n",
       "      <td>0</td>\n",
       "      <td>0</td>\n",
       "      <td>25</td>\n",
       "    </tr>\n",
       "    <tr>\n",
       "      <th>1</th>\n",
       "      <td>-0.383535</td>\n",
       "      <td>-0.013522</td>\n",
       "      <td>-0.906123</td>\n",
       "      <td>306535165</td>\n",
       "      <td>0</td>\n",
       "      <td>0</td>\n",
       "      <td>0</td>\n",
       "      <td>0</td>\n",
       "      <td>0</td>\n",
       "      <td>0</td>\n",
       "      <td>0</td>\n",
       "      <td>1</td>\n",
       "      <td>0</td>\n",
       "      <td>0</td>\n",
       "      <td>26</td>\n",
       "    </tr>\n",
       "  </tbody>\n",
       "</table>\n",
       "</div>"
      ],
      "text/plain": [
       "        age    income    gender         id  global_proc_id_12  \\\n",
       "0 -0.383535 -0.013522 -0.906123  306535165                  0   \n",
       "1 -0.383535 -0.013522 -0.906123  306535165                  0   \n",
       "\n",
       "   global_proc_id_16  global_proc_id_18  global_proc_id_19  global_proc_id_21  \\\n",
       "0                  0                  0                  0                  0   \n",
       "1                  0                  0                  0                  0   \n",
       "\n",
       "   global_proc_id_24  global_proc_id_25  global_proc_id_26  global_proc_id_27  \\\n",
       "0                  0                  1                  0                  0   \n",
       "1                  0                  0                  1                  0   \n",
       "\n",
       "   global_proc_id_33  global_proc_id  \n",
       "0                  0              25  \n",
       "1                  0              26  "
      ]
     },
     "execution_count": 80,
     "metadata": {},
     "output_type": "execute_result"
    }
   ],
   "source": [
    "patient_history_std.head(2)"
   ]
  },
  {
   "cell_type": "code",
   "execution_count": 81,
   "metadata": {},
   "outputs": [
    {
     "data": {
      "text/html": [
       "<div>\n",
       "<style scoped>\n",
       "    .dataframe tbody tr th:only-of-type {\n",
       "        vertical-align: middle;\n",
       "    }\n",
       "\n",
       "    .dataframe tbody tr th {\n",
       "        vertical-align: top;\n",
       "    }\n",
       "\n",
       "    .dataframe thead th {\n",
       "        text-align: right;\n",
       "    }\n",
       "</style>\n",
       "<table border=\"1\" class=\"dataframe\">\n",
       "  <thead>\n",
       "    <tr style=\"text-align: right;\">\n",
       "      <th></th>\n",
       "      <th>age</th>\n",
       "      <th>income</th>\n",
       "      <th>gender</th>\n",
       "      <th>global_proc_id_12</th>\n",
       "      <th>global_proc_id_16</th>\n",
       "      <th>global_proc_id_18</th>\n",
       "      <th>global_proc_id_19</th>\n",
       "      <th>global_proc_id_21</th>\n",
       "      <th>global_proc_id_24</th>\n",
       "      <th>global_proc_id_25</th>\n",
       "      <th>global_proc_id_26</th>\n",
       "      <th>global_proc_id_27</th>\n",
       "      <th>global_proc_id_33</th>\n",
       "    </tr>\n",
       "  </thead>\n",
       "  <tbody>\n",
       "    <tr>\n",
       "      <th>0</th>\n",
       "      <td>-0.383535</td>\n",
       "      <td>-0.013522</td>\n",
       "      <td>-0.906123</td>\n",
       "      <td>0</td>\n",
       "      <td>0</td>\n",
       "      <td>0</td>\n",
       "      <td>0</td>\n",
       "      <td>0</td>\n",
       "      <td>0</td>\n",
       "      <td>1</td>\n",
       "      <td>0</td>\n",
       "      <td>0</td>\n",
       "      <td>0</td>\n",
       "    </tr>\n",
       "    <tr>\n",
       "      <th>1</th>\n",
       "      <td>-0.383535</td>\n",
       "      <td>-0.013522</td>\n",
       "      <td>-0.906123</td>\n",
       "      <td>0</td>\n",
       "      <td>0</td>\n",
       "      <td>0</td>\n",
       "      <td>0</td>\n",
       "      <td>0</td>\n",
       "      <td>0</td>\n",
       "      <td>0</td>\n",
       "      <td>1</td>\n",
       "      <td>0</td>\n",
       "      <td>0</td>\n",
       "    </tr>\n",
       "  </tbody>\n",
       "</table>\n",
       "</div>"
      ],
      "text/plain": [
       "        age    income    gender  global_proc_id_12  global_proc_id_16  \\\n",
       "0 -0.383535 -0.013522 -0.906123                  0                  0   \n",
       "1 -0.383535 -0.013522 -0.906123                  0                  0   \n",
       "\n",
       "   global_proc_id_18  global_proc_id_19  global_proc_id_21  global_proc_id_24  \\\n",
       "0                  0                  0                  0                  0   \n",
       "1                  0                  0                  0                  0   \n",
       "\n",
       "   global_proc_id_25  global_proc_id_26  global_proc_id_27  global_proc_id_33  \n",
       "0                  1                  0                  0                  0  \n",
       "1                  0                  1                  0                  0  "
      ]
     },
     "execution_count": 81,
     "metadata": {},
     "output_type": "execute_result"
    }
   ],
   "source": [
    "patient_history_std.drop(columns=['id','global_proc_id']).head(2)"
   ]
  },
  {
   "cell_type": "code",
   "execution_count": 82,
   "metadata": {},
   "outputs": [
    {
     "name": "stderr",
     "output_type": "stream",
     "text": [
      "C:\\Users\\Shriya\\Software\\Anaconda2\\lib\\site-packages\\sklearn\\cluster\\k_means_.py:1559: RuntimeWarning: init_size=300 should be larger than k=1000. Setting it to 3*k\n",
      "  init_size=init_size)\n"
     ]
    }
   ],
   "source": [
    "# kmeans only performed on Scaled data.\n",
    "# id is unique variable\n",
    "# global_proc_id already captured in binary variables\n",
    "data = patient_history_std.drop(columns=['id','global_proc_id'])\n",
    "data = data.astype(float)\n",
    "kmeans_model = MiniBatchKMeans(n_clusters=1000,random_state=50,max_iter=440,batch_size=100).fit(data)\n",
    "labels = pd.Series(kmeans_model.labels_)\n",
    "labels.index = patient_history_std.index\n",
    "patient_history_std['labels'] = labels"
   ]
  },
  {
   "cell_type": "code",
   "execution_count": 83,
   "metadata": {
    "scrolled": true
   },
   "outputs": [
    {
     "data": {
      "text/html": [
       "<div>\n",
       "<style scoped>\n",
       "    .dataframe tbody tr th:only-of-type {\n",
       "        vertical-align: middle;\n",
       "    }\n",
       "\n",
       "    .dataframe tbody tr th {\n",
       "        vertical-align: top;\n",
       "    }\n",
       "\n",
       "    .dataframe thead th {\n",
       "        text-align: right;\n",
       "    }\n",
       "</style>\n",
       "<table border=\"1\" class=\"dataframe\">\n",
       "  <thead>\n",
       "    <tr style=\"text-align: right;\">\n",
       "      <th></th>\n",
       "      <th>age</th>\n",
       "      <th>income</th>\n",
       "      <th>gender</th>\n",
       "      <th>id</th>\n",
       "      <th>global_proc_id_12</th>\n",
       "      <th>global_proc_id_16</th>\n",
       "      <th>global_proc_id_18</th>\n",
       "      <th>global_proc_id_19</th>\n",
       "      <th>global_proc_id_21</th>\n",
       "      <th>global_proc_id_24</th>\n",
       "      <th>global_proc_id_25</th>\n",
       "      <th>global_proc_id_26</th>\n",
       "      <th>global_proc_id_27</th>\n",
       "      <th>global_proc_id_33</th>\n",
       "      <th>global_proc_id</th>\n",
       "      <th>labels</th>\n",
       "    </tr>\n",
       "  </thead>\n",
       "  <tbody>\n",
       "    <tr>\n",
       "      <th>0</th>\n",
       "      <td>-0.383535</td>\n",
       "      <td>-0.013522</td>\n",
       "      <td>-0.906123</td>\n",
       "      <td>306535165</td>\n",
       "      <td>0</td>\n",
       "      <td>0</td>\n",
       "      <td>0</td>\n",
       "      <td>0</td>\n",
       "      <td>0</td>\n",
       "      <td>0</td>\n",
       "      <td>1</td>\n",
       "      <td>0</td>\n",
       "      <td>0</td>\n",
       "      <td>0</td>\n",
       "      <td>25</td>\n",
       "      <td>69</td>\n",
       "    </tr>\n",
       "    <tr>\n",
       "      <th>1</th>\n",
       "      <td>-0.383535</td>\n",
       "      <td>-0.013522</td>\n",
       "      <td>-0.906123</td>\n",
       "      <td>306535165</td>\n",
       "      <td>0</td>\n",
       "      <td>0</td>\n",
       "      <td>0</td>\n",
       "      <td>0</td>\n",
       "      <td>0</td>\n",
       "      <td>0</td>\n",
       "      <td>0</td>\n",
       "      <td>1</td>\n",
       "      <td>0</td>\n",
       "      <td>0</td>\n",
       "      <td>26</td>\n",
       "      <td>632</td>\n",
       "    </tr>\n",
       "  </tbody>\n",
       "</table>\n",
       "</div>"
      ],
      "text/plain": [
       "        age    income    gender         id  global_proc_id_12  \\\n",
       "0 -0.383535 -0.013522 -0.906123  306535165                  0   \n",
       "1 -0.383535 -0.013522 -0.906123  306535165                  0   \n",
       "\n",
       "   global_proc_id_16  global_proc_id_18  global_proc_id_19  global_proc_id_21  \\\n",
       "0                  0                  0                  0                  0   \n",
       "1                  0                  0                  0                  0   \n",
       "\n",
       "   global_proc_id_24  global_proc_id_25  global_proc_id_26  global_proc_id_27  \\\n",
       "0                  0                  1                  0                  0   \n",
       "1                  0                  0                  1                  0   \n",
       "\n",
       "   global_proc_id_33  global_proc_id  labels  \n",
       "0                  0              25      69  \n",
       "1                  0              26     632  "
      ]
     },
     "execution_count": 83,
     "metadata": {},
     "output_type": "execute_result"
    }
   ],
   "source": [
    "patient_history_std.head(2)"
   ]
  },
  {
   "cell_type": "code",
   "execution_count": 84,
   "metadata": {},
   "outputs": [
    {
     "data": {
      "text/plain": [
       "(499899, 5)"
      ]
     },
     "execution_count": 84,
     "metadata": {},
     "output_type": "execute_result"
    },
    {
     "data": {
      "text/plain": [
       "['REVIEW_FLAG', 'age', 'gender', 'id', 'income']"
      ]
     },
     "execution_count": 84,
     "metadata": {},
     "output_type": "execute_result"
    },
    {
     "data": {
      "text/plain": [
       "(1499548, 16)"
      ]
     },
     "execution_count": 84,
     "metadata": {},
     "output_type": "execute_result"
    },
    {
     "data": {
      "text/plain": [
       "['age',\n",
       " 'gender',\n",
       " 'global_proc_id',\n",
       " 'global_proc_id_12',\n",
       " 'global_proc_id_16',\n",
       " 'global_proc_id_18',\n",
       " 'global_proc_id_19',\n",
       " 'global_proc_id_21',\n",
       " 'global_proc_id_24',\n",
       " 'global_proc_id_25',\n",
       " 'global_proc_id_26',\n",
       " 'global_proc_id_27',\n",
       " 'global_proc_id_33',\n",
       " 'id',\n",
       " 'income',\n",
       " 'labels']"
      ]
     },
     "execution_count": 84,
     "metadata": {},
     "output_type": "execute_result"
    },
    {
     "data": {
      "text/plain": [
       "(1514809, 3)"
      ]
     },
     "execution_count": 84,
     "metadata": {},
     "output_type": "execute_result"
    },
    {
     "data": {
      "text/plain": [
       "['count', 'global_proc_id', 'id']"
      ]
     },
     "execution_count": 84,
     "metadata": {},
     "output_type": "execute_result"
    }
   ],
   "source": [
    "patient_history.shape\n",
    "sorted(patient_history.columns)\n",
    "patient_history_std.shape\n",
    "sorted(patient_history_std.columns)\n",
    "transaction_coo.shape\n",
    "sorted(transaction_coo.columns)"
   ]
  },
  {
   "cell_type": "code",
   "execution_count": 85,
   "metadata": {
    "scrolled": false
   },
   "outputs": [
    {
     "data": {
      "text/html": [
       "<div>\n",
       "<style scoped>\n",
       "    .dataframe tbody tr th:only-of-type {\n",
       "        vertical-align: middle;\n",
       "    }\n",
       "\n",
       "    .dataframe tbody tr th {\n",
       "        vertical-align: top;\n",
       "    }\n",
       "\n",
       "    .dataframe thead th {\n",
       "        text-align: right;\n",
       "    }\n",
       "</style>\n",
       "<table border=\"1\" class=\"dataframe\">\n",
       "  <thead>\n",
       "    <tr style=\"text-align: right;\">\n",
       "      <th></th>\n",
       "      <th>age</th>\n",
       "      <th>income</th>\n",
       "      <th>gender</th>\n",
       "      <th>id</th>\n",
       "      <th>global_proc_id_12</th>\n",
       "      <th>global_proc_id_16</th>\n",
       "      <th>global_proc_id_18</th>\n",
       "      <th>global_proc_id_19</th>\n",
       "      <th>global_proc_id_21</th>\n",
       "      <th>global_proc_id_24</th>\n",
       "      <th>global_proc_id_25</th>\n",
       "      <th>global_proc_id_26</th>\n",
       "      <th>global_proc_id_27</th>\n",
       "      <th>global_proc_id_33</th>\n",
       "      <th>global_proc_id</th>\n",
       "      <th>labels</th>\n",
       "    </tr>\n",
       "  </thead>\n",
       "  <tbody>\n",
       "    <tr>\n",
       "      <th>0</th>\n",
       "      <td>-0.383535</td>\n",
       "      <td>-0.013522</td>\n",
       "      <td>-0.906123</td>\n",
       "      <td>306535165</td>\n",
       "      <td>0</td>\n",
       "      <td>0</td>\n",
       "      <td>0</td>\n",
       "      <td>0</td>\n",
       "      <td>0</td>\n",
       "      <td>0</td>\n",
       "      <td>1</td>\n",
       "      <td>0</td>\n",
       "      <td>0</td>\n",
       "      <td>0</td>\n",
       "      <td>25</td>\n",
       "      <td>69</td>\n",
       "    </tr>\n",
       "    <tr>\n",
       "      <th>1</th>\n",
       "      <td>-0.383535</td>\n",
       "      <td>-0.013522</td>\n",
       "      <td>-0.906123</td>\n",
       "      <td>306535165</td>\n",
       "      <td>0</td>\n",
       "      <td>0</td>\n",
       "      <td>0</td>\n",
       "      <td>0</td>\n",
       "      <td>0</td>\n",
       "      <td>0</td>\n",
       "      <td>0</td>\n",
       "      <td>1</td>\n",
       "      <td>0</td>\n",
       "      <td>0</td>\n",
       "      <td>26</td>\n",
       "      <td>632</td>\n",
       "    </tr>\n",
       "  </tbody>\n",
       "</table>\n",
       "</div>"
      ],
      "text/plain": [
       "        age    income    gender         id  global_proc_id_12  \\\n",
       "0 -0.383535 -0.013522 -0.906123  306535165                  0   \n",
       "1 -0.383535 -0.013522 -0.906123  306535165                  0   \n",
       "\n",
       "   global_proc_id_16  global_proc_id_18  global_proc_id_19  global_proc_id_21  \\\n",
       "0                  0                  0                  0                  0   \n",
       "1                  0                  0                  0                  0   \n",
       "\n",
       "   global_proc_id_24  global_proc_id_25  global_proc_id_26  global_proc_id_27  \\\n",
       "0                  0                  1                  0                  0   \n",
       "1                  0                  0                  1                  0   \n",
       "\n",
       "   global_proc_id_33  global_proc_id  labels  \n",
       "0                  0              25      69  \n",
       "1                  0              26     632  "
      ]
     },
     "execution_count": 85,
     "metadata": {},
     "output_type": "execute_result"
    }
   ],
   "source": [
    "patient_history_std2 = pd.DataFrame(patient_history_std)\n",
    "patient_history_std2.head(2)"
   ]
  },
  {
   "cell_type": "code",
   "execution_count": 86,
   "metadata": {},
   "outputs": [],
   "source": [
    "patient_history_std2.drop(columns=[col for col in svd_dum_col if col != 'global_proc_id'],inplace=True)"
   ]
  },
  {
   "cell_type": "code",
   "execution_count": 87,
   "metadata": {},
   "outputs": [
    {
     "data": {
      "text/html": [
       "<div>\n",
       "<style scoped>\n",
       "    .dataframe tbody tr th:only-of-type {\n",
       "        vertical-align: middle;\n",
       "    }\n",
       "\n",
       "    .dataframe tbody tr th {\n",
       "        vertical-align: top;\n",
       "    }\n",
       "\n",
       "    .dataframe thead th {\n",
       "        text-align: right;\n",
       "    }\n",
       "</style>\n",
       "<table border=\"1\" class=\"dataframe\">\n",
       "  <thead>\n",
       "    <tr style=\"text-align: right;\">\n",
       "      <th></th>\n",
       "      <th>age</th>\n",
       "      <th>income</th>\n",
       "      <th>gender</th>\n",
       "      <th>id</th>\n",
       "      <th>global_proc_id</th>\n",
       "      <th>labels</th>\n",
       "    </tr>\n",
       "  </thead>\n",
       "  <tbody>\n",
       "    <tr>\n",
       "      <th>0</th>\n",
       "      <td>-0.383535</td>\n",
       "      <td>-0.013522</td>\n",
       "      <td>-0.906123</td>\n",
       "      <td>306535165</td>\n",
       "      <td>25</td>\n",
       "      <td>69</td>\n",
       "    </tr>\n",
       "    <tr>\n",
       "      <th>1</th>\n",
       "      <td>-0.383535</td>\n",
       "      <td>-0.013522</td>\n",
       "      <td>-0.906123</td>\n",
       "      <td>306535165</td>\n",
       "      <td>26</td>\n",
       "      <td>632</td>\n",
       "    </tr>\n",
       "  </tbody>\n",
       "</table>\n",
       "</div>"
      ],
      "text/plain": [
       "        age    income    gender         id  global_proc_id  labels\n",
       "0 -0.383535 -0.013522 -0.906123  306535165              25      69\n",
       "1 -0.383535 -0.013522 -0.906123  306535165              26     632"
      ]
     },
     "execution_count": 87,
     "metadata": {},
     "output_type": "execute_result"
    },
    {
     "data": {
      "text/plain": [
       "999649"
      ]
     },
     "execution_count": 87,
     "metadata": {},
     "output_type": "execute_result"
    },
    {
     "data": {
      "text/html": [
       "<div>\n",
       "<style scoped>\n",
       "    .dataframe tbody tr th:only-of-type {\n",
       "        vertical-align: middle;\n",
       "    }\n",
       "\n",
       "    .dataframe tbody tr th {\n",
       "        vertical-align: top;\n",
       "    }\n",
       "\n",
       "    .dataframe thead th {\n",
       "        text-align: right;\n",
       "    }\n",
       "</style>\n",
       "<table border=\"1\" class=\"dataframe\">\n",
       "  <thead>\n",
       "    <tr style=\"text-align: right;\">\n",
       "      <th></th>\n",
       "      <th>id</th>\n",
       "      <th>age</th>\n",
       "      <th>gender</th>\n",
       "      <th>income</th>\n",
       "      <th>REVIEW_FLAG</th>\n",
       "    </tr>\n",
       "  </thead>\n",
       "  <tbody>\n",
       "    <tr>\n",
       "      <th>0</th>\n",
       "      <td>306535165</td>\n",
       "      <td>1</td>\n",
       "      <td>0</td>\n",
       "      <td>2</td>\n",
       "      <td>0</td>\n",
       "    </tr>\n",
       "    <tr>\n",
       "      <th>1</th>\n",
       "      <td>742231134</td>\n",
       "      <td>1</td>\n",
       "      <td>0</td>\n",
       "      <td>4</td>\n",
       "      <td>0</td>\n",
       "    </tr>\n",
       "  </tbody>\n",
       "</table>\n",
       "</div>"
      ],
      "text/plain": [
       "          id  age  gender  income  REVIEW_FLAG\n",
       "0  306535165    1       0       2            0\n",
       "1  742231134    1       0       4            0"
      ]
     },
     "execution_count": 87,
     "metadata": {},
     "output_type": "execute_result"
    },
    {
     "data": {
      "text/plain": [
       "0"
      ]
     },
     "execution_count": 87,
     "metadata": {},
     "output_type": "execute_result"
    }
   ],
   "source": [
    "patient_history_std2.head(2)\n",
    "patient_history_std2['id'].duplicated().sum()\n",
    "patient_history.head(2)\n",
    "patient_history['id'].duplicated().sum()"
   ]
  },
  {
   "cell_type": "code",
   "execution_count": 88,
   "metadata": {},
   "outputs": [],
   "source": [
    "patient_history_std2.loc[patient_history_std2.id.isin(patient_history.loc[patient_history['REVIEW_FLAG']==0,'id']),'REVIEW_FLAG'] = 0\n",
    "patient_history_std2.loc[patient_history_std2.id.isin(patient_history.loc[patient_history['REVIEW_FLAG']==1,'id']),'REVIEW_FLAG'] = 1"
   ]
  },
  {
   "cell_type": "code",
   "execution_count": 89,
   "metadata": {},
   "outputs": [
    {
     "data": {
      "text/plain": [
       "0.0    1484652\n",
       "1.0      14896\n",
       "Name: REVIEW_FLAG, dtype: int64"
      ]
     },
     "execution_count": 89,
     "metadata": {},
     "output_type": "execute_result"
    }
   ],
   "source": [
    "patient_history_std2['REVIEW_FLAG'].value_counts()"
   ]
  },
  {
   "cell_type": "code",
   "execution_count": 90,
   "metadata": {},
   "outputs": [
    {
     "data": {
      "text/html": [
       "<div>\n",
       "<style scoped>\n",
       "    .dataframe tbody tr th:only-of-type {\n",
       "        vertical-align: middle;\n",
       "    }\n",
       "\n",
       "    .dataframe tbody tr th {\n",
       "        vertical-align: top;\n",
       "    }\n",
       "\n",
       "    .dataframe thead tr th {\n",
       "        text-align: left;\n",
       "    }\n",
       "\n",
       "    .dataframe thead tr:last-of-type th {\n",
       "        text-align: right;\n",
       "    }\n",
       "</style>\n",
       "<table border=\"1\" class=\"dataframe\">\n",
       "  <thead>\n",
       "    <tr>\n",
       "      <th></th>\n",
       "      <th colspan=\"2\" halign=\"left\">REVIEW_FLAG</th>\n",
       "    </tr>\n",
       "    <tr>\n",
       "      <th></th>\n",
       "      <th>sum</th>\n",
       "      <th>count</th>\n",
       "    </tr>\n",
       "    <tr>\n",
       "      <th>labels</th>\n",
       "      <th></th>\n",
       "      <th></th>\n",
       "    </tr>\n",
       "  </thead>\n",
       "  <tbody>\n",
       "    <tr>\n",
       "      <th>0</th>\n",
       "      <td>3.0</td>\n",
       "      <td>4618</td>\n",
       "    </tr>\n",
       "    <tr>\n",
       "      <th>1</th>\n",
       "      <td>313.0</td>\n",
       "      <td>15276</td>\n",
       "    </tr>\n",
       "  </tbody>\n",
       "</table>\n",
       "</div>"
      ],
      "text/plain": [
       "       REVIEW_FLAG       \n",
       "               sum  count\n",
       "labels                   \n",
       "0              3.0   4618\n",
       "1            313.0  15276"
      ]
     },
     "execution_count": 90,
     "metadata": {},
     "output_type": "execute_result"
    }
   ],
   "source": [
    "review_summary = patient_history_std2.groupby(by='labels').agg({'REVIEW_FLAG':['sum','count']})\n",
    "review_summary.head(2)"
   ]
  },
  {
   "cell_type": "code",
   "execution_count": 91,
   "metadata": {
    "scrolled": true
   },
   "outputs": [
    {
     "data": {
      "text/html": [
       "<div>\n",
       "<style scoped>\n",
       "    .dataframe tbody tr th:only-of-type {\n",
       "        vertical-align: middle;\n",
       "    }\n",
       "\n",
       "    .dataframe tbody tr th {\n",
       "        vertical-align: top;\n",
       "    }\n",
       "\n",
       "    .dataframe thead th {\n",
       "        text-align: right;\n",
       "    }\n",
       "</style>\n",
       "<table border=\"1\" class=\"dataframe\">\n",
       "  <thead>\n",
       "    <tr style=\"text-align: right;\">\n",
       "      <th></th>\n",
       "      <th>review_sum</th>\n",
       "      <th>review_count</th>\n",
       "    </tr>\n",
       "    <tr>\n",
       "      <th>labels</th>\n",
       "      <th></th>\n",
       "      <th></th>\n",
       "    </tr>\n",
       "  </thead>\n",
       "  <tbody>\n",
       "    <tr>\n",
       "      <th>0</th>\n",
       "      <td>3.0</td>\n",
       "      <td>4618</td>\n",
       "    </tr>\n",
       "    <tr>\n",
       "      <th>1</th>\n",
       "      <td>313.0</td>\n",
       "      <td>15276</td>\n",
       "    </tr>\n",
       "  </tbody>\n",
       "</table>\n",
       "</div>"
      ],
      "text/plain": [
       "        review_sum  review_count\n",
       "labels                          \n",
       "0              3.0          4618\n",
       "1            313.0         15276"
      ]
     },
     "execution_count": 91,
     "metadata": {},
     "output_type": "execute_result"
    }
   ],
   "source": [
    "review_summary.columns = ['review_sum','review_count']\n",
    "review_summary.head(2)"
   ]
  },
  {
   "cell_type": "code",
   "execution_count": 92,
   "metadata": {},
   "outputs": [
    {
     "data": {
      "text/html": [
       "<div>\n",
       "<style scoped>\n",
       "    .dataframe tbody tr th:only-of-type {\n",
       "        vertical-align: middle;\n",
       "    }\n",
       "\n",
       "    .dataframe tbody tr th {\n",
       "        vertical-align: top;\n",
       "    }\n",
       "\n",
       "    .dataframe thead th {\n",
       "        text-align: right;\n",
       "    }\n",
       "</style>\n",
       "<table border=\"1\" class=\"dataframe\">\n",
       "  <thead>\n",
       "    <tr style=\"text-align: right;\">\n",
       "      <th></th>\n",
       "      <th>review_sum</th>\n",
       "      <th>review_count</th>\n",
       "      <th>review_pct</th>\n",
       "    </tr>\n",
       "    <tr>\n",
       "      <th>labels</th>\n",
       "      <th></th>\n",
       "      <th></th>\n",
       "      <th></th>\n",
       "    </tr>\n",
       "  </thead>\n",
       "  <tbody>\n",
       "    <tr>\n",
       "      <th>0</th>\n",
       "      <td>3.0</td>\n",
       "      <td>4618</td>\n",
       "      <td>0.00065</td>\n",
       "    </tr>\n",
       "    <tr>\n",
       "      <th>1</th>\n",
       "      <td>313.0</td>\n",
       "      <td>15276</td>\n",
       "      <td>0.02049</td>\n",
       "    </tr>\n",
       "  </tbody>\n",
       "</table>\n",
       "</div>"
      ],
      "text/plain": [
       "        review_sum  review_count  review_pct\n",
       "labels                                      \n",
       "0              3.0          4618     0.00065\n",
       "1            313.0         15276     0.02049"
      ]
     },
     "execution_count": 92,
     "metadata": {},
     "output_type": "execute_result"
    }
   ],
   "source": [
    "review_summary['review_pct'] = review_summary['review_sum']/review_summary['review_count']\n",
    "review_summary.head(2)"
   ]
  },
  {
   "cell_type": "code",
   "execution_count": 93,
   "metadata": {},
   "outputs": [
    {
     "data": {
      "text/html": [
       "<div>\n",
       "<style scoped>\n",
       "    .dataframe tbody tr th:only-of-type {\n",
       "        vertical-align: middle;\n",
       "    }\n",
       "\n",
       "    .dataframe tbody tr th {\n",
       "        vertical-align: top;\n",
       "    }\n",
       "\n",
       "    .dataframe thead th {\n",
       "        text-align: right;\n",
       "    }\n",
       "</style>\n",
       "<table border=\"1\" class=\"dataframe\">\n",
       "  <thead>\n",
       "    <tr style=\"text-align: right;\">\n",
       "      <th></th>\n",
       "      <th>labels</th>\n",
       "      <th>review_sum</th>\n",
       "      <th>review_count</th>\n",
       "      <th>review_pct</th>\n",
       "    </tr>\n",
       "  </thead>\n",
       "  <tbody>\n",
       "    <tr>\n",
       "      <th>0</th>\n",
       "      <td>189</td>\n",
       "      <td>8.0</td>\n",
       "      <td>207</td>\n",
       "      <td>0.038647</td>\n",
       "    </tr>\n",
       "    <tr>\n",
       "      <th>1</th>\n",
       "      <td>217</td>\n",
       "      <td>8.0</td>\n",
       "      <td>211</td>\n",
       "      <td>0.037915</td>\n",
       "    </tr>\n",
       "    <tr>\n",
       "      <th>2</th>\n",
       "      <td>198</td>\n",
       "      <td>2.0</td>\n",
       "      <td>62</td>\n",
       "      <td>0.032258</td>\n",
       "    </tr>\n",
       "    <tr>\n",
       "      <th>3</th>\n",
       "      <td>126</td>\n",
       "      <td>6.0</td>\n",
       "      <td>197</td>\n",
       "      <td>0.030457</td>\n",
       "    </tr>\n",
       "    <tr>\n",
       "      <th>4</th>\n",
       "      <td>195</td>\n",
       "      <td>6.0</td>\n",
       "      <td>200</td>\n",
       "      <td>0.030000</td>\n",
       "    </tr>\n",
       "  </tbody>\n",
       "</table>\n",
       "</div>"
      ],
      "text/plain": [
       "   labels  review_sum  review_count  review_pct\n",
       "0     189         8.0           207    0.038647\n",
       "1     217         8.0           211    0.037915\n",
       "2     198         2.0            62    0.032258\n",
       "3     126         6.0           197    0.030457\n",
       "4     195         6.0           200    0.030000"
      ]
     },
     "execution_count": 93,
     "metadata": {},
     "output_type": "execute_result"
    }
   ],
   "source": [
    "review_summary = review_summary.sort_values(by='review_pct',ascending=False)\n",
    "review_summary.reset_index(inplace=True)\n",
    "review_summary.head()"
   ]
  },
  {
   "cell_type": "code",
   "execution_count": 94,
   "metadata": {},
   "outputs": [
    {
     "data": {
      "text/html": [
       "<div>\n",
       "<style scoped>\n",
       "    .dataframe tbody tr th:only-of-type {\n",
       "        vertical-align: middle;\n",
       "    }\n",
       "\n",
       "    .dataframe tbody tr th {\n",
       "        vertical-align: top;\n",
       "    }\n",
       "\n",
       "    .dataframe thead th {\n",
       "        text-align: right;\n",
       "    }\n",
       "</style>\n",
       "<table border=\"1\" class=\"dataframe\">\n",
       "  <thead>\n",
       "    <tr style=\"text-align: right;\">\n",
       "      <th></th>\n",
       "      <th>labels</th>\n",
       "      <th>review_sum</th>\n",
       "      <th>review_count</th>\n",
       "      <th>review_pct</th>\n",
       "      <th>cluster_rank</th>\n",
       "    </tr>\n",
       "  </thead>\n",
       "  <tbody>\n",
       "    <tr>\n",
       "      <th>0</th>\n",
       "      <td>189</td>\n",
       "      <td>8.0</td>\n",
       "      <td>207</td>\n",
       "      <td>0.038647</td>\n",
       "      <td>1</td>\n",
       "    </tr>\n",
       "    <tr>\n",
       "      <th>1</th>\n",
       "      <td>217</td>\n",
       "      <td>8.0</td>\n",
       "      <td>211</td>\n",
       "      <td>0.037915</td>\n",
       "      <td>2</td>\n",
       "    </tr>\n",
       "    <tr>\n",
       "      <th>2</th>\n",
       "      <td>198</td>\n",
       "      <td>2.0</td>\n",
       "      <td>62</td>\n",
       "      <td>0.032258</td>\n",
       "      <td>3</td>\n",
       "    </tr>\n",
       "    <tr>\n",
       "      <th>3</th>\n",
       "      <td>126</td>\n",
       "      <td>6.0</td>\n",
       "      <td>197</td>\n",
       "      <td>0.030457</td>\n",
       "      <td>4</td>\n",
       "    </tr>\n",
       "    <tr>\n",
       "      <th>4</th>\n",
       "      <td>195</td>\n",
       "      <td>6.0</td>\n",
       "      <td>200</td>\n",
       "      <td>0.030000</td>\n",
       "      <td>5</td>\n",
       "    </tr>\n",
       "  </tbody>\n",
       "</table>\n",
       "</div>"
      ],
      "text/plain": [
       "   labels  review_sum  review_count  review_pct  cluster_rank\n",
       "0     189         8.0           207    0.038647             1\n",
       "1     217         8.0           211    0.037915             2\n",
       "2     198         2.0            62    0.032258             3\n",
       "3     126         6.0           197    0.030457             4\n",
       "4     195         6.0           200    0.030000             5"
      ]
     },
     "execution_count": 94,
     "metadata": {},
     "output_type": "execute_result"
    }
   ],
   "source": [
    "review_summary['cluster_rank'] = review_summary.index + 1\n",
    "review_summary.head()"
   ]
  },
  {
   "cell_type": "code",
   "execution_count": 95,
   "metadata": {},
   "outputs": [
    {
     "data": {
      "text/plain": [
       "<matplotlib.axes._subplots.AxesSubplot at 0x127273c8>"
      ]
     },
     "execution_count": 95,
     "metadata": {},
     "output_type": "execute_result"
    },
    {
     "data": {
      "image/png": "[encoded data removed]",
      "text/plain": [
       "<Figure size 432x288 with 1 Axes>"
      ]
     },
     "metadata": {
      "needs_background": "light"
     },
     "output_type": "display_data"
    }
   ],
   "source": [
    "sns.lineplot(y=review_summary['review_pct'],x=review_summary['cluster_rank'])"
   ]
  },
  {
   "cell_type": "code",
   "execution_count": 96,
   "metadata": {},
   "outputs": [
    {
     "data": {
      "text/plain": [
       "<matplotlib.axes._subplots.AxesSubplot at 0x1098a6a0>"
      ]
     },
     "execution_count": 96,
     "metadata": {},
     "output_type": "execute_result"
    },
    {
     "data": {
      "image/png": "[encoded data removed]",
      "text/plain": [
       "<Figure size 432x288 with 1 Axes>"
      ]
     },
     "metadata": {
      "needs_background": "light"
     },
     "output_type": "display_data"
    }
   ],
   "source": [
    "y=review_summary['review_count'].cumsum()\n",
    "x = review_summary['cluster_rank']\n",
    "sns.lineplot(y=y,x=x)"
   ]
  },
  {
   "cell_type": "code",
   "execution_count": 97,
   "metadata": {},
   "outputs": [
    {
     "data": {
      "text/plain": [
       "<matplotlib.axes._subplots.AxesSubplot at 0xdcfecf8>"
      ]
     },
     "execution_count": 97,
     "metadata": {},
     "output_type": "execute_result"
    },
    {
     "data": {
      "image/png": "[encoded data removed]",
      "text/plain": [
       "<Figure size 432x288 with 1 Axes>"
      ]
     },
     "metadata": {
      "needs_background": "light"
     },
     "output_type": "display_data"
    }
   ],
   "source": [
    "y=review_summary['review_count'].cumsum()[:8]\n",
    "x = review_summary['cluster_rank'][:8]\n",
    "sns.lineplot(y=y,x=x)"
   ]
  },
  {
   "cell_type": "code",
   "execution_count": 98,
   "metadata": {},
   "outputs": [
    {
     "data": {
      "text/plain": [
       "Index([u'age', u'income', u'gender', u'id', u'global_proc_id', u'labels',\n",
       "       u'REVIEW_FLAG'],\n",
       "      dtype='object')"
      ]
     },
     "execution_count": 98,
     "metadata": {},
     "output_type": "execute_result"
    }
   ],
   "source": [
    "patient_history_std2.columns"
   ]
  },
  {
   "cell_type": "code",
   "execution_count": 99,
   "metadata": {},
   "outputs": [
    {
     "data": {
      "text/plain": [
       "Index([u'labels', u'review_sum', u'review_count', u'review_pct',\n",
       "       u'cluster_rank'],\n",
       "      dtype='object')"
      ]
     },
     "execution_count": 99,
     "metadata": {},
     "output_type": "execute_result"
    }
   ],
   "source": [
    "review_summary.columns"
   ]
  },
  {
   "cell_type": "code",
   "execution_count": 100,
   "metadata": {},
   "outputs": [],
   "source": [
    "# merging review flag summary and patient_history_std2 over cluster labels\n",
    "patient_cluster_fraud_rank = pd.merge(review_summary[['labels','cluster_rank']],patient_history_std2,on='labels')"
   ]
  },
  {
   "cell_type": "code",
   "execution_count": 101,
   "metadata": {},
   "outputs": [
    {
     "data": {
      "text/html": [
       "<div>\n",
       "<style scoped>\n",
       "    .dataframe tbody tr th:only-of-type {\n",
       "        vertical-align: middle;\n",
       "    }\n",
       "\n",
       "    .dataframe tbody tr th {\n",
       "        vertical-align: top;\n",
       "    }\n",
       "\n",
       "    .dataframe thead th {\n",
       "        text-align: right;\n",
       "    }\n",
       "</style>\n",
       "<table border=\"1\" class=\"dataframe\">\n",
       "  <thead>\n",
       "    <tr style=\"text-align: right;\">\n",
       "      <th></th>\n",
       "      <th>labels</th>\n",
       "      <th>cluster_rank</th>\n",
       "      <th>age</th>\n",
       "      <th>income</th>\n",
       "      <th>gender</th>\n",
       "      <th>id</th>\n",
       "      <th>global_proc_id</th>\n",
       "      <th>REVIEW_FLAG</th>\n",
       "    </tr>\n",
       "  </thead>\n",
       "  <tbody>\n",
       "    <tr>\n",
       "      <th>0</th>\n",
       "      <td>189</td>\n",
       "      <td>1</td>\n",
       "      <td>-0.383535</td>\n",
       "      <td>-1.363391</td>\n",
       "      <td>-0.906123</td>\n",
       "      <td>736818954</td>\n",
       "      <td>24</td>\n",
       "      <td>0.0</td>\n",
       "    </tr>\n",
       "    <tr>\n",
       "      <th>1</th>\n",
       "      <td>189</td>\n",
       "      <td>1</td>\n",
       "      <td>-0.383535</td>\n",
       "      <td>-0.688456</td>\n",
       "      <td>-0.906123</td>\n",
       "      <td>984294061</td>\n",
       "      <td>24</td>\n",
       "      <td>0.0</td>\n",
       "    </tr>\n",
       "  </tbody>\n",
       "</table>\n",
       "</div>"
      ],
      "text/plain": [
       "   labels  cluster_rank       age    income    gender         id  \\\n",
       "0     189             1 -0.383535 -1.363391 -0.906123  736818954   \n",
       "1     189             1 -0.383535 -0.688456 -0.906123  984294061   \n",
       "\n",
       "   global_proc_id  REVIEW_FLAG  \n",
       "0              24          0.0  \n",
       "1              24          0.0  "
      ]
     },
     "execution_count": 101,
     "metadata": {},
     "output_type": "execute_result"
    }
   ],
   "source": [
    "patient_cluster_fraud_rank.head(2)"
   ]
  },
  {
   "cell_type": "code",
   "execution_count": 102,
   "metadata": {},
   "outputs": [
    {
     "data": {
      "text/plain": [
       "(1499548, 8)"
      ]
     },
     "execution_count": 102,
     "metadata": {},
     "output_type": "execute_result"
    }
   ],
   "source": [
    "patient_cluster_fraud_rank.shape"
   ]
  },
  {
   "cell_type": "code",
   "execution_count": 103,
   "metadata": {},
   "outputs": [],
   "source": [
    "# Merging fraudlent transaction data given and patient_cluster_fraud_rank\n",
    "patient_history_assoc_review = pd.merge(patient_cluster_fraud_rank,\n",
    "         fraudulent_transaction,\n",
    "         how='left',\n",
    "         on=['id','global_proc_id'])"
   ]
  },
  {
   "cell_type": "code",
   "execution_count": 104,
   "metadata": {},
   "outputs": [
    {
     "data": {
      "text/plain": [
       "['REVIEW_FLAG',\n",
       " 'age',\n",
       " 'cluster_rank',\n",
       " 'count',\n",
       " 'gender',\n",
       " 'global_proc_id',\n",
       " 'id',\n",
       " 'income',\n",
       " 'labels']"
      ]
     },
     "execution_count": 104,
     "metadata": {},
     "output_type": "execute_result"
    }
   ],
   "source": [
    "sorted(patient_history_assoc_review.columns)"
   ]
  },
  {
   "cell_type": "code",
   "execution_count": 105,
   "metadata": {},
   "outputs": [
    {
     "data": {
      "text/plain": [
       "labels                  0\n",
       "cluster_rank            0\n",
       "age                     0\n",
       "income                  0\n",
       "gender                  0\n",
       "id                      0\n",
       "global_proc_id          0\n",
       "REVIEW_FLAG             0\n",
       "count             1484652\n",
       "dtype: int64"
      ]
     },
     "execution_count": 105,
     "metadata": {},
     "output_type": "execute_result"
    }
   ],
   "source": [
    "patient_history_assoc_review.isna().sum()\n",
    "patient_history_assoc_review.fillna(0,inplace=True)"
   ]
  },
  {
   "cell_type": "code",
   "execution_count": 106,
   "metadata": {},
   "outputs": [],
   "source": [
    "patient_rank = patient_history_assoc_review.groupby('id').agg({'count':'sum','cluster_rank':'mean'}).sort_values(by=['count','cluster_rank'],ascending=[False,True]).reset_index()"
   ]
  },
  {
   "cell_type": "code",
   "execution_count": 107,
   "metadata": {},
   "outputs": [],
   "source": [
    "patient_rank['patient_rank'] = patient_rank.index+1"
   ]
  },
  {
   "cell_type": "code",
   "execution_count": 108,
   "metadata": {
    "scrolled": true
   },
   "outputs": [
    {
     "data": {
      "text/html": [
       "<div>\n",
       "<style scoped>\n",
       "    .dataframe tbody tr th:only-of-type {\n",
       "        vertical-align: middle;\n",
       "    }\n",
       "\n",
       "    .dataframe tbody tr th {\n",
       "        vertical-align: top;\n",
       "    }\n",
       "\n",
       "    .dataframe thead th {\n",
       "        text-align: right;\n",
       "    }\n",
       "</style>\n",
       "<table border=\"1\" class=\"dataframe\">\n",
       "  <thead>\n",
       "    <tr style=\"text-align: right;\">\n",
       "      <th></th>\n",
       "      <th>id</th>\n",
       "      <th>count</th>\n",
       "      <th>cluster_rank</th>\n",
       "      <th>patient_rank</th>\n",
       "    </tr>\n",
       "  </thead>\n",
       "  <tbody>\n",
       "    <tr>\n",
       "      <th>0</th>\n",
       "      <td>984836241</td>\n",
       "      <td>10.0</td>\n",
       "      <td>29.0</td>\n",
       "      <td>1</td>\n",
       "    </tr>\n",
       "    <tr>\n",
       "      <th>1</th>\n",
       "      <td>151693438</td>\n",
       "      <td>9.0</td>\n",
       "      <td>11.0</td>\n",
       "      <td>2</td>\n",
       "    </tr>\n",
       "    <tr>\n",
       "      <th>2</th>\n",
       "      <td>750652657</td>\n",
       "      <td>9.0</td>\n",
       "      <td>21.0</td>\n",
       "      <td>3</td>\n",
       "    </tr>\n",
       "    <tr>\n",
       "      <th>3</th>\n",
       "      <td>463925465</td>\n",
       "      <td>9.0</td>\n",
       "      <td>27.0</td>\n",
       "      <td>4</td>\n",
       "    </tr>\n",
       "    <tr>\n",
       "      <th>4</th>\n",
       "      <td>712387847</td>\n",
       "      <td>9.0</td>\n",
       "      <td>28.0</td>\n",
       "      <td>5</td>\n",
       "    </tr>\n",
       "  </tbody>\n",
       "</table>\n",
       "</div>"
      ],
      "text/plain": [
       "          id  count  cluster_rank  patient_rank\n",
       "0  984836241   10.0          29.0             1\n",
       "1  151693438    9.0          11.0             2\n",
       "2  750652657    9.0          21.0             3\n",
       "3  463925465    9.0          27.0             4\n",
       "4  712387847    9.0          28.0             5"
      ]
     },
     "execution_count": 108,
     "metadata": {},
     "output_type": "execute_result"
    }
   ],
   "source": [
    "patient_rank.head()"
   ]
  },
  {
   "cell_type": "code",
   "execution_count": 109,
   "metadata": {},
   "outputs": [
    {
     "data": {
      "image/png": "[encoded data removed]",
      "text/plain": [
       "<Figure size 432x288 with 1 Axes>"
      ]
     },
     "metadata": {
      "needs_background": "light"
     },
     "output_type": "display_data"
    }
   ],
   "source": [
    "temp = sns.lineplot(x=patient_rank['patient_rank'][:10000],y=patient_rank['count'][:10000],color='r').set_title('Number of transactions reviewed of the patient vs Patient Rank')"
   ]
  },
  {
   "cell_type": "code",
   "execution_count": 110,
   "metadata": {},
   "outputs": [
    {
     "data": {
      "image/png": "[encoded data removed]",
      "text/plain": [
       "<Figure size 432x288 with 1 Axes>"
      ]
     },
     "metadata": {
      "needs_background": "light"
     },
     "output_type": "display_data"
    }
   ],
   "source": [
    "temp = sns.lineplot(x=patient_rank['patient_rank'][:10000],y=(patient_rank['cluster_rank'])[:10000],color='b').set_title('Cluster Rank based on % of patient reviewed\\nLower cluster rank, high % of patient reviewed\\nCluster rank vs Patient Rank')"
   ]
  },
  {
   "cell_type": "code",
   "execution_count": 111,
   "metadata": {},
   "outputs": [],
   "source": [
    "patient_rank.to_csv('Patient Ranks.csv')"
   ]
  }
 ],
 "metadata": {
  "kernelspec": {
   "display_name": "Python 3",
   "language": "python",
   "name": "python3"
  },
  "language_info": {
   "codemirror_mode": {
    "name": "ipython",
    "version": 3
   },
   "file_extension": ".py",
   "mimetype": "text/x-python",
   "name": "python",
   "nbconvert_exporter": "python",
   "pygments_lexer": "ipython3",
   "version": "3.7.3"
  },
  "toc": {
   "base_numbering": 1,
   "nav_menu": {},
   "number_sections": true,
   "sideBar": true,
   "skip_h1_title": false,
   "title_cell": "Table of Contents",
   "title_sidebar": "Contents",
   "toc_cell": false,
   "toc_position": {},
   "toc_section_display": true,
   "toc_window_display": false
  }
 },
 "nbformat": 4,
 "nbformat_minor": 2
}
